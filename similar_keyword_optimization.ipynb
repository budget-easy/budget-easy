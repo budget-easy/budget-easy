{
 "cells": [
  {
   "cell_type": "code",
   "execution_count": 6,
   "metadata": {},
   "outputs": [],
   "source": [
    "import pandas as pd\n",
    "from sql import get_data\n",
    "import seaborn as sns\n",
    "import plotly.express as px\n",
    "\n",
    "import warnings\n",
    "warnings.filterwarnings('ignore')"
   ]
  },
  {
   "cell_type": "code",
   "execution_count": 7,
   "metadata": {},
   "outputs": [
    {
     "data": {
      "text/html": [
       "<div>\n",
       "<style scoped>\n",
       "    .dataframe tbody tr th:only-of-type {\n",
       "        vertical-align: middle;\n",
       "    }\n",
       "\n",
       "    .dataframe tbody tr th {\n",
       "        vertical-align: top;\n",
       "    }\n",
       "\n",
       "    .dataframe thead th {\n",
       "        text-align: right;\n",
       "    }\n",
       "</style>\n",
       "<table border=\"1\" class=\"dataframe\">\n",
       "  <thead>\n",
       "    <tr style=\"text-align: right;\">\n",
       "      <th></th>\n",
       "      <th>keyword</th>\n",
       "      <th>avg_monthly_searches</th>\n",
       "      <th>competition</th>\n",
       "      <th>platform</th>\n",
       "      <th>suggested_bid</th>\n",
       "    </tr>\n",
       "  </thead>\n",
       "  <tbody>\n",
       "    <tr>\n",
       "      <th>0</th>\n",
       "      <td>1.27 mm pitch ribbon cable</td>\n",
       "      <td>10.0</td>\n",
       "      <td>None</td>\n",
       "      <td>google</td>\n",
       "      <td>NaN</td>\n",
       "    </tr>\n",
       "    <tr>\n",
       "      <th>1</th>\n",
       "      <td>10 conductor ribbon cable</td>\n",
       "      <td>0.0</td>\n",
       "      <td>None</td>\n",
       "      <td>google</td>\n",
       "      <td>NaN</td>\n",
       "    </tr>\n",
       "    <tr>\n",
       "      <th>2</th>\n",
       "      <td>10 pin flat cable</td>\n",
       "      <td>10.0</td>\n",
       "      <td>None</td>\n",
       "      <td>google</td>\n",
       "      <td>NaN</td>\n",
       "    </tr>\n",
       "    <tr>\n",
       "      <th>3</th>\n",
       "      <td>10 pin flat ribbon cable</td>\n",
       "      <td>10.0</td>\n",
       "      <td>None</td>\n",
       "      <td>google</td>\n",
       "      <td>NaN</td>\n",
       "    </tr>\n",
       "    <tr>\n",
       "      <th>4</th>\n",
       "      <td>12v dc dc converter</td>\n",
       "      <td>140.0</td>\n",
       "      <td>Hoch</td>\n",
       "      <td>google</td>\n",
       "      <td>0.73</td>\n",
       "    </tr>\n",
       "  </tbody>\n",
       "</table>\n",
       "</div>"
      ],
      "text/plain": [
       "                      keyword  avg_monthly_searches competition platform  \\\n",
       "0  1.27 mm pitch ribbon cable                  10.0        None   google   \n",
       "1   10 conductor ribbon cable                   0.0        None   google   \n",
       "2           10 pin flat cable                  10.0        None   google   \n",
       "3    10 pin flat ribbon cable                  10.0        None   google   \n",
       "4         12v dc dc converter                 140.0        Hoch   google   \n",
       "\n",
       "   suggested_bid  \n",
       "0            NaN  \n",
       "1            NaN  \n",
       "2            NaN  \n",
       "3            NaN  \n",
       "4           0.73  "
      ]
     },
     "execution_count": 7,
     "metadata": {},
     "output_type": "execute_result"
    }
   ],
   "source": [
    "# read test data from sql\n",
    "df = get_data('SELECT * FROM keywords')\n",
    "df.head()"
   ]
  },
  {
   "cell_type": "code",
   "execution_count": 8,
   "metadata": {},
   "outputs": [
    {
     "data": {
      "text/html": [
       "<div>\n",
       "<style scoped>\n",
       "    .dataframe tbody tr th:only-of-type {\n",
       "        vertical-align: middle;\n",
       "    }\n",
       "\n",
       "    .dataframe tbody tr th {\n",
       "        vertical-align: top;\n",
       "    }\n",
       "\n",
       "    .dataframe thead th {\n",
       "        text-align: right;\n",
       "    }\n",
       "</style>\n",
       "<table border=\"1\" class=\"dataframe\">\n",
       "  <thead>\n",
       "    <tr style=\"text-align: right;\">\n",
       "      <th></th>\n",
       "      <th>keyword</th>\n",
       "      <th>avg_monthly_searches</th>\n",
       "      <th>competition</th>\n",
       "      <th>platform</th>\n",
       "      <th>suggested_bid</th>\n",
       "    </tr>\n",
       "  </thead>\n",
       "  <tbody>\n",
       "    <tr>\n",
       "      <th>4</th>\n",
       "      <td>12v dc dc converter</td>\n",
       "      <td>140.0</td>\n",
       "      <td>Hoch</td>\n",
       "      <td>google</td>\n",
       "      <td>0.73</td>\n",
       "    </tr>\n",
       "    <tr>\n",
       "      <th>16</th>\n",
       "      <td>24v 5v dc dc converter</td>\n",
       "      <td>20.0</td>\n",
       "      <td>Hoch</td>\n",
       "      <td>google</td>\n",
       "      <td>1.05</td>\n",
       "    </tr>\n",
       "    <tr>\n",
       "      <th>26</th>\n",
       "      <td>4w620</td>\n",
       "      <td>10.0</td>\n",
       "      <td>Hoch</td>\n",
       "      <td>google</td>\n",
       "      <td>0.40</td>\n",
       "    </tr>\n",
       "    <tr>\n",
       "      <th>27</th>\n",
       "      <td>5 eck gartenhaus</td>\n",
       "      <td>2400.0</td>\n",
       "      <td>Hoch</td>\n",
       "      <td>google</td>\n",
       "      <td>0.93</td>\n",
       "    </tr>\n",
       "    <tr>\n",
       "      <th>31</th>\n",
       "      <td>5eck gartenhaus</td>\n",
       "      <td>110.0</td>\n",
       "      <td>Hoch</td>\n",
       "      <td>google</td>\n",
       "      <td>1.03</td>\n",
       "    </tr>\n",
       "    <tr>\n",
       "      <th>...</th>\n",
       "      <td>...</td>\n",
       "      <td>...</td>\n",
       "      <td>...</td>\n",
       "      <td>...</td>\n",
       "      <td>...</td>\n",
       "    </tr>\n",
       "    <tr>\n",
       "      <th>1867</th>\n",
       "      <td>vkb stellenangebote</td>\n",
       "      <td>10.0</td>\n",
       "      <td>Mittel</td>\n",
       "      <td>bing</td>\n",
       "      <td>0.14</td>\n",
       "    </tr>\n",
       "    <tr>\n",
       "      <th>1871</th>\n",
       "      <td>würth led</td>\n",
       "      <td>20.0</td>\n",
       "      <td>Mittel</td>\n",
       "      <td>bing</td>\n",
       "      <td>0.19</td>\n",
       "    </tr>\n",
       "    <tr>\n",
       "      <th>1872</th>\n",
       "      <td>würth leiterplatten</td>\n",
       "      <td>30.0</td>\n",
       "      <td>Gering</td>\n",
       "      <td>bing</td>\n",
       "      <td>1.18</td>\n",
       "    </tr>\n",
       "    <tr>\n",
       "      <th>1874</th>\n",
       "      <td>würth waldenburg</td>\n",
       "      <td>20.0</td>\n",
       "      <td>Gering</td>\n",
       "      <td>bing</td>\n",
       "      <td>0.22</td>\n",
       "    </tr>\n",
       "    <tr>\n",
       "      <th>1875</th>\n",
       "      <td>test_keyword</td>\n",
       "      <td>140.0</td>\n",
       "      <td>Hoch</td>\n",
       "      <td>google</td>\n",
       "      <td>1.42</td>\n",
       "    </tr>\n",
       "  </tbody>\n",
       "</table>\n",
       "<p>1031 rows × 5 columns</p>\n",
       "</div>"
      ],
      "text/plain": [
       "                     keyword  avg_monthly_searches competition platform  \\\n",
       "4        12v dc dc converter                 140.0        Hoch   google   \n",
       "16    24v 5v dc dc converter                  20.0        Hoch   google   \n",
       "26                     4w620                  10.0        Hoch   google   \n",
       "27          5 eck gartenhaus                2400.0        Hoch   google   \n",
       "31           5eck gartenhaus                 110.0        Hoch   google   \n",
       "...                      ...                   ...         ...      ...   \n",
       "1867     vkb stellenangebote                  10.0      Mittel     bing   \n",
       "1871               würth led                  20.0      Mittel     bing   \n",
       "1872     würth leiterplatten                  30.0      Gering     bing   \n",
       "1874        würth waldenburg                  20.0      Gering     bing   \n",
       "1875            test_keyword                 140.0        Hoch   google   \n",
       "\n",
       "      suggested_bid  \n",
       "4              0.73  \n",
       "16             1.05  \n",
       "26             0.40  \n",
       "27             0.93  \n",
       "31             1.03  \n",
       "...             ...  \n",
       "1867           0.14  \n",
       "1871           0.19  \n",
       "1872           1.18  \n",
       "1874           0.22  \n",
       "1875           1.42  \n",
       "\n",
       "[1031 rows x 5 columns]"
      ]
     },
     "execution_count": 8,
     "metadata": {},
     "output_type": "execute_result"
    }
   ],
   "source": [
    "df[df.suggested_bid.notnull()]"
   ]
  },
  {
   "cell_type": "code",
   "execution_count": 9,
   "metadata": {},
   "outputs": [
    {
     "data": {
      "text/html": [
       "<div>\n",
       "<style scoped>\n",
       "    .dataframe tbody tr th:only-of-type {\n",
       "        vertical-align: middle;\n",
       "    }\n",
       "\n",
       "    .dataframe tbody tr th {\n",
       "        vertical-align: top;\n",
       "    }\n",
       "\n",
       "    .dataframe thead th {\n",
       "        text-align: right;\n",
       "    }\n",
       "</style>\n",
       "<table border=\"1\" class=\"dataframe\">\n",
       "  <thead>\n",
       "    <tr style=\"text-align: right;\">\n",
       "      <th></th>\n",
       "      <th>keyword</th>\n",
       "      <th>avg_monthly_searches</th>\n",
       "      <th>competition</th>\n",
       "      <th>platform</th>\n",
       "      <th>suggested_bid</th>\n",
       "      <th>clicks_per_mo</th>\n",
       "      <th>costs_per_mo</th>\n",
       "    </tr>\n",
       "  </thead>\n",
       "  <tbody>\n",
       "    <tr>\n",
       "      <th>0</th>\n",
       "      <td>1.27 mm pitch ribbon cable</td>\n",
       "      <td>10.0</td>\n",
       "      <td>None</td>\n",
       "      <td>google</td>\n",
       "      <td>NaN</td>\n",
       "      <td>0.5</td>\n",
       "      <td>NaN</td>\n",
       "    </tr>\n",
       "    <tr>\n",
       "      <th>1</th>\n",
       "      <td>10 conductor ribbon cable</td>\n",
       "      <td>0.0</td>\n",
       "      <td>None</td>\n",
       "      <td>google</td>\n",
       "      <td>NaN</td>\n",
       "      <td>0.0</td>\n",
       "      <td>NaN</td>\n",
       "    </tr>\n",
       "    <tr>\n",
       "      <th>2</th>\n",
       "      <td>10 pin flat cable</td>\n",
       "      <td>10.0</td>\n",
       "      <td>None</td>\n",
       "      <td>google</td>\n",
       "      <td>NaN</td>\n",
       "      <td>0.5</td>\n",
       "      <td>NaN</td>\n",
       "    </tr>\n",
       "    <tr>\n",
       "      <th>3</th>\n",
       "      <td>10 pin flat ribbon cable</td>\n",
       "      <td>10.0</td>\n",
       "      <td>None</td>\n",
       "      <td>google</td>\n",
       "      <td>NaN</td>\n",
       "      <td>0.5</td>\n",
       "      <td>NaN</td>\n",
       "    </tr>\n",
       "    <tr>\n",
       "      <th>4</th>\n",
       "      <td>12v dc dc converter</td>\n",
       "      <td>140.0</td>\n",
       "      <td>Hoch</td>\n",
       "      <td>google</td>\n",
       "      <td>0.73</td>\n",
       "      <td>7.0</td>\n",
       "      <td>5.11</td>\n",
       "    </tr>\n",
       "  </tbody>\n",
       "</table>\n",
       "</div>"
      ],
      "text/plain": [
       "                      keyword  avg_monthly_searches competition platform  \\\n",
       "0  1.27 mm pitch ribbon cable                  10.0        None   google   \n",
       "1   10 conductor ribbon cable                   0.0        None   google   \n",
       "2           10 pin flat cable                  10.0        None   google   \n",
       "3    10 pin flat ribbon cable                  10.0        None   google   \n",
       "4         12v dc dc converter                 140.0        Hoch   google   \n",
       "\n",
       "   suggested_bid  clicks_per_mo  costs_per_mo  \n",
       "0            NaN            0.5           NaN  \n",
       "1            NaN            0.0           NaN  \n",
       "2            NaN            0.5           NaN  \n",
       "3            NaN            0.5           NaN  \n",
       "4           0.73            7.0          5.11  "
      ]
     },
     "execution_count": 9,
     "metadata": {},
     "output_type": "execute_result"
    }
   ],
   "source": [
    "# define percentage of clicks from ads_search_volume\n",
    "estimated_percentage_clicks = 0.05\n",
    "df['clicks_per_mo'] = df['avg_monthly_searches'] * estimated_percentage_clicks \n",
    "df['costs_per_mo'] = df['avg_monthly_searches'] * estimated_percentage_clicks * df['suggested_bid']\n",
    "df.head()"
   ]
  },
  {
   "cell_type": "code",
   "execution_count": 10,
   "metadata": {},
   "outputs": [
    {
     "data": {
      "text/html": [
       "<div>\n",
       "<style scoped>\n",
       "    .dataframe tbody tr th:only-of-type {\n",
       "        vertical-align: middle;\n",
       "    }\n",
       "\n",
       "    .dataframe tbody tr th {\n",
       "        vertical-align: top;\n",
       "    }\n",
       "\n",
       "    .dataframe thead th {\n",
       "        text-align: right;\n",
       "    }\n",
       "</style>\n",
       "<table border=\"1\" class=\"dataframe\">\n",
       "  <thead>\n",
       "    <tr style=\"text-align: right;\">\n",
       "      <th></th>\n",
       "      <th>keyword</th>\n",
       "      <th>avg_monthly_searches</th>\n",
       "      <th>competition</th>\n",
       "      <th>platform</th>\n",
       "      <th>suggested_bid</th>\n",
       "      <th>clicks_per_mo</th>\n",
       "      <th>costs_per_mo</th>\n",
       "    </tr>\n",
       "  </thead>\n",
       "  <tbody>\n",
       "    <tr>\n",
       "      <th>1370</th>\n",
       "      <td>entwicklung ki</td>\n",
       "      <td>10.0</td>\n",
       "      <td>Gering</td>\n",
       "      <td>bing</td>\n",
       "      <td>0.73</td>\n",
       "      <td>0.5</td>\n",
       "      <td>0.365</td>\n",
       "    </tr>\n",
       "    <tr>\n",
       "      <th>1382</th>\n",
       "      <td>ki modell</td>\n",
       "      <td>10.0</td>\n",
       "      <td>Gering</td>\n",
       "      <td>bing</td>\n",
       "      <td>0.63</td>\n",
       "      <td>0.5</td>\n",
       "      <td>0.315</td>\n",
       "    </tr>\n",
       "    <tr>\n",
       "      <th>1388</th>\n",
       "      <td>ki technologien</td>\n",
       "      <td>10.0</td>\n",
       "      <td>Mittel</td>\n",
       "      <td>bing</td>\n",
       "      <td>1.32</td>\n",
       "      <td>0.5</td>\n",
       "      <td>0.660</td>\n",
       "    </tr>\n",
       "    <tr>\n",
       "      <th>500</th>\n",
       "      <td>ki rpa</td>\n",
       "      <td>10.0</td>\n",
       "      <td>Hoch</td>\n",
       "      <td>google</td>\n",
       "      <td>7.26</td>\n",
       "      <td>0.5</td>\n",
       "      <td>3.630</td>\n",
       "    </tr>\n",
       "    <tr>\n",
       "      <th>1379</th>\n",
       "      <td>ki im unternehmen</td>\n",
       "      <td>10.0</td>\n",
       "      <td>Mittel</td>\n",
       "      <td>bing</td>\n",
       "      <td>0.87</td>\n",
       "      <td>0.5</td>\n",
       "      <td>0.435</td>\n",
       "    </tr>\n",
       "  </tbody>\n",
       "</table>\n",
       "</div>"
      ],
      "text/plain": [
       "                keyword  avg_monthly_searches competition platform  \\\n",
       "1370     entwicklung ki                  10.0      Gering     bing   \n",
       "1382          ki modell                  10.0      Gering     bing   \n",
       "1388    ki technologien                  10.0      Mittel     bing   \n",
       "500              ki rpa                  10.0        Hoch   google   \n",
       "1379  ki im unternehmen                  10.0      Mittel     bing   \n",
       "\n",
       "      suggested_bid  clicks_per_mo  costs_per_mo  \n",
       "1370           0.73            0.5         0.365  \n",
       "1382           0.63            0.5         0.315  \n",
       "1388           1.32            0.5         0.660  \n",
       "500            7.26            0.5         3.630  \n",
       "1379           0.87            0.5         0.435  "
      ]
     },
     "execution_count": 10,
     "metadata": {},
     "output_type": "execute_result"
    }
   ],
   "source": [
    "# filter dataframe for keyword\n",
    "keyword = 'ki | ki'\n",
    "\n",
    "df_filtered = df[(df['keyword'].str.contains(keyword, case=False)) & (df.suggested_bid.notnull())].sort_values(['clicks_per_mo'])\n",
    "\n",
    "#df_filtered[avg_monthly_searches]\n",
    "\n",
    "df_filtered.head()"
   ]
  },
  {
   "cell_type": "code",
   "execution_count": 11,
   "metadata": {},
   "outputs": [
    {
     "data": {
      "text/html": [
       "<div>\n",
       "<style scoped>\n",
       "    .dataframe tbody tr th:only-of-type {\n",
       "        vertical-align: middle;\n",
       "    }\n",
       "\n",
       "    .dataframe tbody tr th {\n",
       "        vertical-align: top;\n",
       "    }\n",
       "\n",
       "    .dataframe thead th {\n",
       "        text-align: right;\n",
       "    }\n",
       "</style>\n",
       "<table border=\"1\" class=\"dataframe\">\n",
       "  <thead>\n",
       "    <tr style=\"text-align: right;\">\n",
       "      <th></th>\n",
       "      <th>keyword</th>\n",
       "      <th>avg_monthly_searches</th>\n",
       "      <th>competition</th>\n",
       "      <th>platform</th>\n",
       "      <th>suggested_bid</th>\n",
       "      <th>clicks_per_mo</th>\n",
       "      <th>costs_per_mo</th>\n",
       "    </tr>\n",
       "  </thead>\n",
       "  <tbody>\n",
       "    <tr>\n",
       "      <th>1370</th>\n",
       "      <td>entwicklung ki</td>\n",
       "      <td>10.0</td>\n",
       "      <td>Gering</td>\n",
       "      <td>bing</td>\n",
       "      <td>0.73</td>\n",
       "      <td>0.5</td>\n",
       "      <td>0.365</td>\n",
       "    </tr>\n",
       "    <tr>\n",
       "      <th>1382</th>\n",
       "      <td>ki modell</td>\n",
       "      <td>10.0</td>\n",
       "      <td>Gering</td>\n",
       "      <td>bing</td>\n",
       "      <td>0.63</td>\n",
       "      <td>0.5</td>\n",
       "      <td>0.315</td>\n",
       "    </tr>\n",
       "    <tr>\n",
       "      <th>1388</th>\n",
       "      <td>ki technologien</td>\n",
       "      <td>10.0</td>\n",
       "      <td>Mittel</td>\n",
       "      <td>bing</td>\n",
       "      <td>1.32</td>\n",
       "      <td>0.5</td>\n",
       "      <td>0.660</td>\n",
       "    </tr>\n",
       "    <tr>\n",
       "      <th>500</th>\n",
       "      <td>ki rpa</td>\n",
       "      <td>10.0</td>\n",
       "      <td>Hoch</td>\n",
       "      <td>google</td>\n",
       "      <td>7.26</td>\n",
       "      <td>0.5</td>\n",
       "      <td>3.630</td>\n",
       "    </tr>\n",
       "    <tr>\n",
       "      <th>1379</th>\n",
       "      <td>ki im unternehmen</td>\n",
       "      <td>10.0</td>\n",
       "      <td>Mittel</td>\n",
       "      <td>bing</td>\n",
       "      <td>0.87</td>\n",
       "      <td>0.5</td>\n",
       "      <td>0.435</td>\n",
       "    </tr>\n",
       "  </tbody>\n",
       "</table>\n",
       "</div>"
      ],
      "text/plain": [
       "                keyword  avg_monthly_searches competition platform  \\\n",
       "1370     entwicklung ki                  10.0      Gering     bing   \n",
       "1382          ki modell                  10.0      Gering     bing   \n",
       "1388    ki technologien                  10.0      Mittel     bing   \n",
       "500              ki rpa                  10.0        Hoch   google   \n",
       "1379  ki im unternehmen                  10.0      Mittel     bing   \n",
       "\n",
       "      suggested_bid  clicks_per_mo  costs_per_mo  \n",
       "1370           0.73            0.5         0.365  \n",
       "1382           0.63            0.5         0.315  \n",
       "1388           1.32            0.5         0.660  \n",
       "500            7.26            0.5         3.630  \n",
       "1379           0.87            0.5         0.435  "
      ]
     },
     "execution_count": 11,
     "metadata": {},
     "output_type": "execute_result"
    }
   ],
   "source": [
    "# only show keywords that have less than 5% of the clicks of \n",
    "df_filtered[df_filtered['clicks_per_mo'] < df_filtered['clicks_per_mo'].max() * .05]"
   ]
  },
  {
   "cell_type": "code",
   "execution_count": 12,
   "metadata": {},
   "outputs": [
    {
     "data": {
      "text/html": [
       "<div>\n",
       "<style scoped>\n",
       "    .dataframe tbody tr th:only-of-type {\n",
       "        vertical-align: middle;\n",
       "    }\n",
       "\n",
       "    .dataframe tbody tr th {\n",
       "        vertical-align: top;\n",
       "    }\n",
       "\n",
       "    .dataframe thead th {\n",
       "        text-align: right;\n",
       "    }\n",
       "</style>\n",
       "<table border=\"1\" class=\"dataframe\">\n",
       "  <thead>\n",
       "    <tr style=\"text-align: right;\">\n",
       "      <th></th>\n",
       "      <th>keyword</th>\n",
       "      <th>avg_monthly_searches</th>\n",
       "      <th>competition</th>\n",
       "      <th>platform</th>\n",
       "      <th>suggested_bid</th>\n",
       "      <th>clicks_per_mo</th>\n",
       "      <th>costs_per_mo</th>\n",
       "    </tr>\n",
       "  </thead>\n",
       "  <tbody>\n",
       "    <tr>\n",
       "      <th>1387</th>\n",
       "      <td>ki technologie</td>\n",
       "      <td>20.0</td>\n",
       "      <td>Mittel</td>\n",
       "      <td>bing</td>\n",
       "      <td>1.53</td>\n",
       "      <td>1.0</td>\n",
       "      <td>1.530</td>\n",
       "    </tr>\n",
       "    <tr>\n",
       "      <th>505</th>\n",
       "      <td>ki und big data</td>\n",
       "      <td>20.0</td>\n",
       "      <td>Gering</td>\n",
       "      <td>google</td>\n",
       "      <td>1.40</td>\n",
       "      <td>1.0</td>\n",
       "      <td>1.400</td>\n",
       "    </tr>\n",
       "    <tr>\n",
       "      <th>489</th>\n",
       "      <td>ki datenanalyse</td>\n",
       "      <td>20.0</td>\n",
       "      <td>Mittel</td>\n",
       "      <td>google</td>\n",
       "      <td>3.06</td>\n",
       "      <td>1.0</td>\n",
       "      <td>3.060</td>\n",
       "    </tr>\n",
       "    <tr>\n",
       "      <th>488</th>\n",
       "      <td>ki daten</td>\n",
       "      <td>20.0</td>\n",
       "      <td>Gering</td>\n",
       "      <td>google</td>\n",
       "      <td>2.46</td>\n",
       "      <td>1.0</td>\n",
       "      <td>2.460</td>\n",
       "    </tr>\n",
       "    <tr>\n",
       "      <th>497</th>\n",
       "      <td>ki nutzen</td>\n",
       "      <td>20.0</td>\n",
       "      <td>Gering</td>\n",
       "      <td>google</td>\n",
       "      <td>1.46</td>\n",
       "      <td>1.0</td>\n",
       "      <td>1.460</td>\n",
       "    </tr>\n",
       "    <tr>\n",
       "      <th>498</th>\n",
       "      <td>ki oder ai</td>\n",
       "      <td>20.0</td>\n",
       "      <td>Gering</td>\n",
       "      <td>google</td>\n",
       "      <td>1.05</td>\n",
       "      <td>1.0</td>\n",
       "      <td>1.050</td>\n",
       "    </tr>\n",
       "    <tr>\n",
       "      <th>490</th>\n",
       "      <td>ki einsatz</td>\n",
       "      <td>20.0</td>\n",
       "      <td>Mittel</td>\n",
       "      <td>google</td>\n",
       "      <td>1.45</td>\n",
       "      <td>1.0</td>\n",
       "      <td>1.450</td>\n",
       "    </tr>\n",
       "    <tr>\n",
       "      <th>483</th>\n",
       "      <td>ki analyse</td>\n",
       "      <td>20.0</td>\n",
       "      <td>Mittel</td>\n",
       "      <td>google</td>\n",
       "      <td>1.25</td>\n",
       "      <td>1.0</td>\n",
       "      <td>1.250</td>\n",
       "    </tr>\n",
       "    <tr>\n",
       "      <th>409</th>\n",
       "      <td>gibt es ki</td>\n",
       "      <td>20.0</td>\n",
       "      <td>Gering</td>\n",
       "      <td>google</td>\n",
       "      <td>1.04</td>\n",
       "      <td>1.0</td>\n",
       "      <td>1.040</td>\n",
       "    </tr>\n",
       "    <tr>\n",
       "      <th>501</th>\n",
       "      <td>ki seminar</td>\n",
       "      <td>20.0</td>\n",
       "      <td>Hoch</td>\n",
       "      <td>google</td>\n",
       "      <td>1.92</td>\n",
       "      <td>1.0</td>\n",
       "      <td>1.920</td>\n",
       "    </tr>\n",
       "    <tr>\n",
       "      <th>227</th>\n",
       "      <td>eine ki</td>\n",
       "      <td>20.0</td>\n",
       "      <td>Gering</td>\n",
       "      <td>google</td>\n",
       "      <td>1.00</td>\n",
       "      <td>1.0</td>\n",
       "      <td>1.000</td>\n",
       "    </tr>\n",
       "    <tr>\n",
       "      <th>182</th>\n",
       "      <td>data science ki</td>\n",
       "      <td>20.0</td>\n",
       "      <td>Mittel</td>\n",
       "      <td>google</td>\n",
       "      <td>1.97</td>\n",
       "      <td>1.0</td>\n",
       "      <td>1.970</td>\n",
       "    </tr>\n",
       "    <tr>\n",
       "      <th>681</th>\n",
       "      <td>rpa und ki</td>\n",
       "      <td>20.0</td>\n",
       "      <td>Hoch</td>\n",
       "      <td>google</td>\n",
       "      <td>5.88</td>\n",
       "      <td>1.0</td>\n",
       "      <td>5.880</td>\n",
       "    </tr>\n",
       "    <tr>\n",
       "      <th>499</th>\n",
       "      <td>ki prognose</td>\n",
       "      <td>20.0</td>\n",
       "      <td>Gering</td>\n",
       "      <td>google</td>\n",
       "      <td>1.12</td>\n",
       "      <td>1.0</td>\n",
       "      <td>1.120</td>\n",
       "    </tr>\n",
       "    <tr>\n",
       "      <th>485</th>\n",
       "      <td>ki automatisierung</td>\n",
       "      <td>20.0</td>\n",
       "      <td>Mittel</td>\n",
       "      <td>google</td>\n",
       "      <td>11.28</td>\n",
       "      <td>1.0</td>\n",
       "      <td>11.280</td>\n",
       "    </tr>\n",
       "    <tr>\n",
       "      <th>579</th>\n",
       "      <td>methoden der ki</td>\n",
       "      <td>30.0</td>\n",
       "      <td>Mittel</td>\n",
       "      <td>google</td>\n",
       "      <td>1.45</td>\n",
       "      <td>1.5</td>\n",
       "      <td>2.175</td>\n",
       "    </tr>\n",
       "    <tr>\n",
       "      <th>47</th>\n",
       "      <td>ai und ki</td>\n",
       "      <td>30.0</td>\n",
       "      <td>Mittel</td>\n",
       "      <td>google</td>\n",
       "      <td>1.40</td>\n",
       "      <td>1.5</td>\n",
       "      <td>2.100</td>\n",
       "    </tr>\n",
       "    <tr>\n",
       "      <th>487</th>\n",
       "      <td>ki big data</td>\n",
       "      <td>30.0</td>\n",
       "      <td>Gering</td>\n",
       "      <td>google</td>\n",
       "      <td>1.86</td>\n",
       "      <td>1.5</td>\n",
       "      <td>2.790</td>\n",
       "    </tr>\n",
       "    <tr>\n",
       "      <th>484</th>\n",
       "      <td>ki anwendungsbereiche</td>\n",
       "      <td>30.0</td>\n",
       "      <td>Mittel</td>\n",
       "      <td>google</td>\n",
       "      <td>1.45</td>\n",
       "      <td>1.5</td>\n",
       "      <td>2.175</td>\n",
       "    </tr>\n",
       "    <tr>\n",
       "      <th>245</th>\n",
       "      <td>entwicklung ki</td>\n",
       "      <td>30.0</td>\n",
       "      <td>Mittel</td>\n",
       "      <td>google</td>\n",
       "      <td>3.41</td>\n",
       "      <td>1.5</td>\n",
       "      <td>5.115</td>\n",
       "    </tr>\n",
       "    <tr>\n",
       "      <th>231</th>\n",
       "      <td>einsatz von ki</td>\n",
       "      <td>30.0</td>\n",
       "      <td>Mittel</td>\n",
       "      <td>google</td>\n",
       "      <td>1.52</td>\n",
       "      <td>1.5</td>\n",
       "      <td>2.280</td>\n",
       "    </tr>\n",
       "    <tr>\n",
       "      <th>98</th>\n",
       "      <td>rpa ki</td>\n",
       "      <td>30.0</td>\n",
       "      <td>Mittel</td>\n",
       "      <td>google</td>\n",
       "      <td>6.71</td>\n",
       "      <td>1.5</td>\n",
       "      <td>10.065</td>\n",
       "    </tr>\n",
       "    <tr>\n",
       "      <th>486</th>\n",
       "      <td>ki bereiche</td>\n",
       "      <td>40.0</td>\n",
       "      <td>Gering</td>\n",
       "      <td>google</td>\n",
       "      <td>1.28</td>\n",
       "      <td>2.0</td>\n",
       "      <td>2.560</td>\n",
       "    </tr>\n",
       "    <tr>\n",
       "      <th>61</th>\n",
       "      <td>anwendungsbereiche ki</td>\n",
       "      <td>40.0</td>\n",
       "      <td>Mittel</td>\n",
       "      <td>google</td>\n",
       "      <td>1.43</td>\n",
       "      <td>2.0</td>\n",
       "      <td>2.860</td>\n",
       "    </tr>\n",
       "    <tr>\n",
       "      <th>508</th>\n",
       "      <td>ki wissen</td>\n",
       "      <td>40.0</td>\n",
       "      <td>Gering</td>\n",
       "      <td>google</td>\n",
       "      <td>1.38</td>\n",
       "      <td>2.0</td>\n",
       "      <td>2.760</td>\n",
       "    </tr>\n",
       "    <tr>\n",
       "      <th>491</th>\n",
       "      <td>ki im unternehmen</td>\n",
       "      <td>40.0</td>\n",
       "      <td>Hoch</td>\n",
       "      <td>google</td>\n",
       "      <td>3.11</td>\n",
       "      <td>2.0</td>\n",
       "      <td>6.220</td>\n",
       "    </tr>\n",
       "    <tr>\n",
       "      <th>507</th>\n",
       "      <td>ki verfahren</td>\n",
       "      <td>40.0</td>\n",
       "      <td>Gering</td>\n",
       "      <td>google</td>\n",
       "      <td>1.37</td>\n",
       "      <td>2.0</td>\n",
       "      <td>2.740</td>\n",
       "    </tr>\n",
       "    <tr>\n",
       "      <th>1410</th>\n",
       "      <td>ki künstliche intelligenz</td>\n",
       "      <td>50.0</td>\n",
       "      <td>Gering</td>\n",
       "      <td>bing</td>\n",
       "      <td>0.58</td>\n",
       "      <td>2.5</td>\n",
       "      <td>1.450</td>\n",
       "    </tr>\n",
       "    <tr>\n",
       "      <th>504</th>\n",
       "      <td>ki und ai</td>\n",
       "      <td>50.0</td>\n",
       "      <td>Mittel</td>\n",
       "      <td>google</td>\n",
       "      <td>1.36</td>\n",
       "      <td>2.5</td>\n",
       "      <td>3.400</td>\n",
       "    </tr>\n",
       "    <tr>\n",
       "      <th>492</th>\n",
       "      <td>ki in unternehmen</td>\n",
       "      <td>50.0</td>\n",
       "      <td>Hoch</td>\n",
       "      <td>google</td>\n",
       "      <td>3.96</td>\n",
       "      <td>2.5</td>\n",
       "      <td>9.900</td>\n",
       "    </tr>\n",
       "    <tr>\n",
       "      <th>544</th>\n",
       "      <td>künstliche intelligenz ki</td>\n",
       "      <td>70.0</td>\n",
       "      <td>Gering</td>\n",
       "      <td>google</td>\n",
       "      <td>1.56</td>\n",
       "      <td>3.5</td>\n",
       "      <td>5.460</td>\n",
       "    </tr>\n",
       "    <tr>\n",
       "      <th>503</th>\n",
       "      <td>ki technologien</td>\n",
       "      <td>70.0</td>\n",
       "      <td>Mittel</td>\n",
       "      <td>google</td>\n",
       "      <td>1.69</td>\n",
       "      <td>3.5</td>\n",
       "      <td>5.915</td>\n",
       "    </tr>\n",
       "    <tr>\n",
       "      <th>493</th>\n",
       "      <td>ki intelligenz</td>\n",
       "      <td>70.0</td>\n",
       "      <td>Mittel</td>\n",
       "      <td>google</td>\n",
       "      <td>2.58</td>\n",
       "      <td>3.5</td>\n",
       "      <td>9.030</td>\n",
       "    </tr>\n",
       "    <tr>\n",
       "      <th>495</th>\n",
       "      <td>ki methoden</td>\n",
       "      <td>110.0</td>\n",
       "      <td>Gering</td>\n",
       "      <td>google</td>\n",
       "      <td>1.44</td>\n",
       "      <td>5.5</td>\n",
       "      <td>7.920</td>\n",
       "    </tr>\n",
       "    <tr>\n",
       "      <th>496</th>\n",
       "      <td>ki modell</td>\n",
       "      <td>140.0</td>\n",
       "      <td>Gering</td>\n",
       "      <td>google</td>\n",
       "      <td>2.30</td>\n",
       "      <td>7.0</td>\n",
       "      <td>16.100</td>\n",
       "    </tr>\n",
       "    <tr>\n",
       "      <th>502</th>\n",
       "      <td>ki technologie</td>\n",
       "      <td>170.0</td>\n",
       "      <td>Mittel</td>\n",
       "      <td>google</td>\n",
       "      <td>1.64</td>\n",
       "      <td>8.5</td>\n",
       "      <td>13.940</td>\n",
       "    </tr>\n",
       "    <tr>\n",
       "      <th>494</th>\n",
       "      <td>ki künstliche intelligenz</td>\n",
       "      <td>210.0</td>\n",
       "      <td>Mittel</td>\n",
       "      <td>google</td>\n",
       "      <td>1.56</td>\n",
       "      <td>10.5</td>\n",
       "      <td>16.380</td>\n",
       "    </tr>\n",
       "    <tr>\n",
       "      <th>506</th>\n",
       "      <td>ki unternehmen</td>\n",
       "      <td>260.0</td>\n",
       "      <td>Mittel</td>\n",
       "      <td>google</td>\n",
       "      <td>2.62</td>\n",
       "      <td>13.0</td>\n",
       "      <td>34.060</td>\n",
       "    </tr>\n",
       "  </tbody>\n",
       "</table>\n",
       "</div>"
      ],
      "text/plain": [
       "                        keyword  avg_monthly_searches competition platform  \\\n",
       "1387             ki technologie                  20.0      Mittel     bing   \n",
       "505             ki und big data                  20.0      Gering   google   \n",
       "489             ki datenanalyse                  20.0      Mittel   google   \n",
       "488                    ki daten                  20.0      Gering   google   \n",
       "497                   ki nutzen                  20.0      Gering   google   \n",
       "498                  ki oder ai                  20.0      Gering   google   \n",
       "490                  ki einsatz                  20.0      Mittel   google   \n",
       "483                  ki analyse                  20.0      Mittel   google   \n",
       "409                  gibt es ki                  20.0      Gering   google   \n",
       "501                  ki seminar                  20.0        Hoch   google   \n",
       "227                     eine ki                  20.0      Gering   google   \n",
       "182             data science ki                  20.0      Mittel   google   \n",
       "681                  rpa und ki                  20.0        Hoch   google   \n",
       "499                 ki prognose                  20.0      Gering   google   \n",
       "485          ki automatisierung                  20.0      Mittel   google   \n",
       "579             methoden der ki                  30.0      Mittel   google   \n",
       "47                    ai und ki                  30.0      Mittel   google   \n",
       "487                 ki big data                  30.0      Gering   google   \n",
       "484       ki anwendungsbereiche                  30.0      Mittel   google   \n",
       "245              entwicklung ki                  30.0      Mittel   google   \n",
       "231              einsatz von ki                  30.0      Mittel   google   \n",
       "98                       rpa ki                  30.0      Mittel   google   \n",
       "486                 ki bereiche                  40.0      Gering   google   \n",
       "61        anwendungsbereiche ki                  40.0      Mittel   google   \n",
       "508                   ki wissen                  40.0      Gering   google   \n",
       "491           ki im unternehmen                  40.0        Hoch   google   \n",
       "507                ki verfahren                  40.0      Gering   google   \n",
       "1410  ki künstliche intelligenz                  50.0      Gering     bing   \n",
       "504                   ki und ai                  50.0      Mittel   google   \n",
       "492           ki in unternehmen                  50.0        Hoch   google   \n",
       "544   künstliche intelligenz ki                  70.0      Gering   google   \n",
       "503             ki technologien                  70.0      Mittel   google   \n",
       "493              ki intelligenz                  70.0      Mittel   google   \n",
       "495                 ki methoden                 110.0      Gering   google   \n",
       "496                   ki modell                 140.0      Gering   google   \n",
       "502              ki technologie                 170.0      Mittel   google   \n",
       "494   ki künstliche intelligenz                 210.0      Mittel   google   \n",
       "506              ki unternehmen                 260.0      Mittel   google   \n",
       "\n",
       "      suggested_bid  clicks_per_mo  costs_per_mo  \n",
       "1387           1.53            1.0         1.530  \n",
       "505            1.40            1.0         1.400  \n",
       "489            3.06            1.0         3.060  \n",
       "488            2.46            1.0         2.460  \n",
       "497            1.46            1.0         1.460  \n",
       "498            1.05            1.0         1.050  \n",
       "490            1.45            1.0         1.450  \n",
       "483            1.25            1.0         1.250  \n",
       "409            1.04            1.0         1.040  \n",
       "501            1.92            1.0         1.920  \n",
       "227            1.00            1.0         1.000  \n",
       "182            1.97            1.0         1.970  \n",
       "681            5.88            1.0         5.880  \n",
       "499            1.12            1.0         1.120  \n",
       "485           11.28            1.0        11.280  \n",
       "579            1.45            1.5         2.175  \n",
       "47             1.40            1.5         2.100  \n",
       "487            1.86            1.5         2.790  \n",
       "484            1.45            1.5         2.175  \n",
       "245            3.41            1.5         5.115  \n",
       "231            1.52            1.5         2.280  \n",
       "98             6.71            1.5        10.065  \n",
       "486            1.28            2.0         2.560  \n",
       "61             1.43            2.0         2.860  \n",
       "508            1.38            2.0         2.760  \n",
       "491            3.11            2.0         6.220  \n",
       "507            1.37            2.0         2.740  \n",
       "1410           0.58            2.5         1.450  \n",
       "504            1.36            2.5         3.400  \n",
       "492            3.96            2.5         9.900  \n",
       "544            1.56            3.5         5.460  \n",
       "503            1.69            3.5         5.915  \n",
       "493            2.58            3.5         9.030  \n",
       "495            1.44            5.5         7.920  \n",
       "496            2.30            7.0        16.100  \n",
       "502            1.64            8.5        13.940  \n",
       "494            1.56           10.5        16.380  \n",
       "506            2.62           13.0        34.060  "
      ]
     },
     "execution_count": 12,
     "metadata": {},
     "output_type": "execute_result"
    }
   ],
   "source": [
    "# only show keywords that have more than 5% of the clicks of \n",
    "df_filtered = df_filtered[df_filtered['clicks_per_mo'] >= df_filtered['clicks_per_mo'].max() * .05]\n",
    "df_filtered"
   ]
  },
  {
   "cell_type": "code",
   "execution_count": 13,
   "metadata": {},
   "outputs": [
    {
     "data": {
      "application/vnd.plotly.v1+json": {
       "config": {
        "plotlyServerURL": "https://plot.ly"
       },
       "data": [
        {
         "customdata": [
          [
           "ki technologie",
           "Mittel"
          ],
          [
           "ki künstliche intelligenz",
           "Gering"
          ]
         ],
         "hovertemplate": "platform=bing<br>suggested_bid=%{x}<br>avg_monthly_searches=%{y}<br>keyword=%{customdata[0]}<br>competition=%{customdata[1]}<extra></extra>",
         "legendgroup": "bing",
         "marker": {
          "color": "#636efa",
          "symbol": "circle"
         },
         "mode": "markers",
         "name": "bing",
         "orientation": "v",
         "showlegend": true,
         "type": "scatter",
         "x": [
          1.53,
          0.58
         ],
         "xaxis": "x",
         "y": [
          20,
          50
         ],
         "yaxis": "y"
        },
        {
         "customdata": [
          [
           "ki und big data",
           "Gering"
          ],
          [
           "ki datenanalyse",
           "Mittel"
          ],
          [
           "ki daten",
           "Gering"
          ],
          [
           "ki nutzen",
           "Gering"
          ],
          [
           "ki oder ai",
           "Gering"
          ],
          [
           "ki einsatz",
           "Mittel"
          ],
          [
           "ki analyse",
           "Mittel"
          ],
          [
           "gibt es ki",
           "Gering"
          ],
          [
           "ki seminar",
           "Hoch"
          ],
          [
           "eine ki",
           "Gering"
          ],
          [
           "data science ki",
           "Mittel"
          ],
          [
           "rpa und ki",
           "Hoch"
          ],
          [
           "ki prognose",
           "Gering"
          ],
          [
           "ki automatisierung",
           "Mittel"
          ],
          [
           "methoden der ki",
           "Mittel"
          ],
          [
           "ai und ki",
           "Mittel"
          ],
          [
           "ki big data",
           "Gering"
          ],
          [
           "ki anwendungsbereiche",
           "Mittel"
          ],
          [
           "entwicklung ki",
           "Mittel"
          ],
          [
           "einsatz von ki",
           "Mittel"
          ],
          [
           "rpa ki",
           "Mittel"
          ],
          [
           "ki bereiche",
           "Gering"
          ],
          [
           "anwendungsbereiche ki",
           "Mittel"
          ],
          [
           "ki wissen",
           "Gering"
          ],
          [
           "ki im unternehmen",
           "Hoch"
          ],
          [
           "ki verfahren",
           "Gering"
          ],
          [
           "ki und ai",
           "Mittel"
          ],
          [
           "ki in unternehmen",
           "Hoch"
          ],
          [
           "künstliche intelligenz ki",
           "Gering"
          ],
          [
           "ki technologien",
           "Mittel"
          ],
          [
           "ki intelligenz",
           "Mittel"
          ],
          [
           "ki methoden",
           "Gering"
          ],
          [
           "ki modell",
           "Gering"
          ],
          [
           "ki technologie",
           "Mittel"
          ],
          [
           "ki künstliche intelligenz",
           "Mittel"
          ],
          [
           "ki unternehmen",
           "Mittel"
          ]
         ],
         "hovertemplate": "platform=google<br>suggested_bid=%{x}<br>avg_monthly_searches=%{y}<br>keyword=%{customdata[0]}<br>competition=%{customdata[1]}<extra></extra>",
         "legendgroup": "google",
         "marker": {
          "color": "#EF553B",
          "symbol": "circle"
         },
         "mode": "markers",
         "name": "google",
         "orientation": "v",
         "showlegend": true,
         "type": "scatter",
         "x": [
          1.4,
          3.06,
          2.46,
          1.46,
          1.05,
          1.45,
          1.25,
          1.04,
          1.92,
          1,
          1.97,
          5.88,
          1.12,
          11.28,
          1.45,
          1.4,
          1.86,
          1.45,
          3.41,
          1.52,
          6.71,
          1.28,
          1.43,
          1.38,
          3.11,
          1.37,
          1.36,
          3.96,
          1.56,
          1.69,
          2.58,
          1.44,
          2.3,
          1.64,
          1.56,
          2.62
         ],
         "xaxis": "x",
         "y": [
          20,
          20,
          20,
          20,
          20,
          20,
          20,
          20,
          20,
          20,
          20,
          20,
          20,
          20,
          30,
          30,
          30,
          30,
          30,
          30,
          30,
          40,
          40,
          40,
          40,
          40,
          50,
          50,
          70,
          70,
          70,
          110,
          140,
          170,
          210,
          260
         ],
         "yaxis": "y"
        }
       ],
       "layout": {
        "legend": {
         "title": {
          "text": "platform"
         },
         "tracegroupgap": 0
        },
        "margin": {
         "t": 60
        },
        "template": {
         "data": {
          "bar": [
           {
            "error_x": {
             "color": "#2a3f5f"
            },
            "error_y": {
             "color": "#2a3f5f"
            },
            "marker": {
             "line": {
              "color": "#E5ECF6",
              "width": 0.5
             },
             "pattern": {
              "fillmode": "overlay",
              "size": 10,
              "solidity": 0.2
             }
            },
            "type": "bar"
           }
          ],
          "barpolar": [
           {
            "marker": {
             "line": {
              "color": "#E5ECF6",
              "width": 0.5
             },
             "pattern": {
              "fillmode": "overlay",
              "size": 10,
              "solidity": 0.2
             }
            },
            "type": "barpolar"
           }
          ],
          "carpet": [
           {
            "aaxis": {
             "endlinecolor": "#2a3f5f",
             "gridcolor": "white",
             "linecolor": "white",
             "minorgridcolor": "white",
             "startlinecolor": "#2a3f5f"
            },
            "baxis": {
             "endlinecolor": "#2a3f5f",
             "gridcolor": "white",
             "linecolor": "white",
             "minorgridcolor": "white",
             "startlinecolor": "#2a3f5f"
            },
            "type": "carpet"
           }
          ],
          "choropleth": [
           {
            "colorbar": {
             "outlinewidth": 0,
             "ticks": ""
            },
            "type": "choropleth"
           }
          ],
          "contour": [
           {
            "colorbar": {
             "outlinewidth": 0,
             "ticks": ""
            },
            "colorscale": [
             [
              0,
              "#0d0887"
             ],
             [
              0.1111111111111111,
              "#46039f"
             ],
             [
              0.2222222222222222,
              "#7201a8"
             ],
             [
              0.3333333333333333,
              "#9c179e"
             ],
             [
              0.4444444444444444,
              "#bd3786"
             ],
             [
              0.5555555555555556,
              "#d8576b"
             ],
             [
              0.6666666666666666,
              "#ed7953"
             ],
             [
              0.7777777777777778,
              "#fb9f3a"
             ],
             [
              0.8888888888888888,
              "#fdca26"
             ],
             [
              1,
              "#f0f921"
             ]
            ],
            "type": "contour"
           }
          ],
          "contourcarpet": [
           {
            "colorbar": {
             "outlinewidth": 0,
             "ticks": ""
            },
            "type": "contourcarpet"
           }
          ],
          "heatmap": [
           {
            "colorbar": {
             "outlinewidth": 0,
             "ticks": ""
            },
            "colorscale": [
             [
              0,
              "#0d0887"
             ],
             [
              0.1111111111111111,
              "#46039f"
             ],
             [
              0.2222222222222222,
              "#7201a8"
             ],
             [
              0.3333333333333333,
              "#9c179e"
             ],
             [
              0.4444444444444444,
              "#bd3786"
             ],
             [
              0.5555555555555556,
              "#d8576b"
             ],
             [
              0.6666666666666666,
              "#ed7953"
             ],
             [
              0.7777777777777778,
              "#fb9f3a"
             ],
             [
              0.8888888888888888,
              "#fdca26"
             ],
             [
              1,
              "#f0f921"
             ]
            ],
            "type": "heatmap"
           }
          ],
          "heatmapgl": [
           {
            "colorbar": {
             "outlinewidth": 0,
             "ticks": ""
            },
            "colorscale": [
             [
              0,
              "#0d0887"
             ],
             [
              0.1111111111111111,
              "#46039f"
             ],
             [
              0.2222222222222222,
              "#7201a8"
             ],
             [
              0.3333333333333333,
              "#9c179e"
             ],
             [
              0.4444444444444444,
              "#bd3786"
             ],
             [
              0.5555555555555556,
              "#d8576b"
             ],
             [
              0.6666666666666666,
              "#ed7953"
             ],
             [
              0.7777777777777778,
              "#fb9f3a"
             ],
             [
              0.8888888888888888,
              "#fdca26"
             ],
             [
              1,
              "#f0f921"
             ]
            ],
            "type": "heatmapgl"
           }
          ],
          "histogram": [
           {
            "marker": {
             "pattern": {
              "fillmode": "overlay",
              "size": 10,
              "solidity": 0.2
             }
            },
            "type": "histogram"
           }
          ],
          "histogram2d": [
           {
            "colorbar": {
             "outlinewidth": 0,
             "ticks": ""
            },
            "colorscale": [
             [
              0,
              "#0d0887"
             ],
             [
              0.1111111111111111,
              "#46039f"
             ],
             [
              0.2222222222222222,
              "#7201a8"
             ],
             [
              0.3333333333333333,
              "#9c179e"
             ],
             [
              0.4444444444444444,
              "#bd3786"
             ],
             [
              0.5555555555555556,
              "#d8576b"
             ],
             [
              0.6666666666666666,
              "#ed7953"
             ],
             [
              0.7777777777777778,
              "#fb9f3a"
             ],
             [
              0.8888888888888888,
              "#fdca26"
             ],
             [
              1,
              "#f0f921"
             ]
            ],
            "type": "histogram2d"
           }
          ],
          "histogram2dcontour": [
           {
            "colorbar": {
             "outlinewidth": 0,
             "ticks": ""
            },
            "colorscale": [
             [
              0,
              "#0d0887"
             ],
             [
              0.1111111111111111,
              "#46039f"
             ],
             [
              0.2222222222222222,
              "#7201a8"
             ],
             [
              0.3333333333333333,
              "#9c179e"
             ],
             [
              0.4444444444444444,
              "#bd3786"
             ],
             [
              0.5555555555555556,
              "#d8576b"
             ],
             [
              0.6666666666666666,
              "#ed7953"
             ],
             [
              0.7777777777777778,
              "#fb9f3a"
             ],
             [
              0.8888888888888888,
              "#fdca26"
             ],
             [
              1,
              "#f0f921"
             ]
            ],
            "type": "histogram2dcontour"
           }
          ],
          "mesh3d": [
           {
            "colorbar": {
             "outlinewidth": 0,
             "ticks": ""
            },
            "type": "mesh3d"
           }
          ],
          "parcoords": [
           {
            "line": {
             "colorbar": {
              "outlinewidth": 0,
              "ticks": ""
             }
            },
            "type": "parcoords"
           }
          ],
          "pie": [
           {
            "automargin": true,
            "type": "pie"
           }
          ],
          "scatter": [
           {
            "marker": {
             "colorbar": {
              "outlinewidth": 0,
              "ticks": ""
             }
            },
            "type": "scatter"
           }
          ],
          "scatter3d": [
           {
            "line": {
             "colorbar": {
              "outlinewidth": 0,
              "ticks": ""
             }
            },
            "marker": {
             "colorbar": {
              "outlinewidth": 0,
              "ticks": ""
             }
            },
            "type": "scatter3d"
           }
          ],
          "scattercarpet": [
           {
            "marker": {
             "colorbar": {
              "outlinewidth": 0,
              "ticks": ""
             }
            },
            "type": "scattercarpet"
           }
          ],
          "scattergeo": [
           {
            "marker": {
             "colorbar": {
              "outlinewidth": 0,
              "ticks": ""
             }
            },
            "type": "scattergeo"
           }
          ],
          "scattergl": [
           {
            "marker": {
             "colorbar": {
              "outlinewidth": 0,
              "ticks": ""
             }
            },
            "type": "scattergl"
           }
          ],
          "scattermapbox": [
           {
            "marker": {
             "colorbar": {
              "outlinewidth": 0,
              "ticks": ""
             }
            },
            "type": "scattermapbox"
           }
          ],
          "scatterpolar": [
           {
            "marker": {
             "colorbar": {
              "outlinewidth": 0,
              "ticks": ""
             }
            },
            "type": "scatterpolar"
           }
          ],
          "scatterpolargl": [
           {
            "marker": {
             "colorbar": {
              "outlinewidth": 0,
              "ticks": ""
             }
            },
            "type": "scatterpolargl"
           }
          ],
          "scatterternary": [
           {
            "marker": {
             "colorbar": {
              "outlinewidth": 0,
              "ticks": ""
             }
            },
            "type": "scatterternary"
           }
          ],
          "surface": [
           {
            "colorbar": {
             "outlinewidth": 0,
             "ticks": ""
            },
            "colorscale": [
             [
              0,
              "#0d0887"
             ],
             [
              0.1111111111111111,
              "#46039f"
             ],
             [
              0.2222222222222222,
              "#7201a8"
             ],
             [
              0.3333333333333333,
              "#9c179e"
             ],
             [
              0.4444444444444444,
              "#bd3786"
             ],
             [
              0.5555555555555556,
              "#d8576b"
             ],
             [
              0.6666666666666666,
              "#ed7953"
             ],
             [
              0.7777777777777778,
              "#fb9f3a"
             ],
             [
              0.8888888888888888,
              "#fdca26"
             ],
             [
              1,
              "#f0f921"
             ]
            ],
            "type": "surface"
           }
          ],
          "table": [
           {
            "cells": {
             "fill": {
              "color": "#EBF0F8"
             },
             "line": {
              "color": "white"
             }
            },
            "header": {
             "fill": {
              "color": "#C8D4E3"
             },
             "line": {
              "color": "white"
             }
            },
            "type": "table"
           }
          ]
         },
         "layout": {
          "annotationdefaults": {
           "arrowcolor": "#2a3f5f",
           "arrowhead": 0,
           "arrowwidth": 1
          },
          "autotypenumbers": "strict",
          "coloraxis": {
           "colorbar": {
            "outlinewidth": 0,
            "ticks": ""
           }
          },
          "colorscale": {
           "diverging": [
            [
             0,
             "#8e0152"
            ],
            [
             0.1,
             "#c51b7d"
            ],
            [
             0.2,
             "#de77ae"
            ],
            [
             0.3,
             "#f1b6da"
            ],
            [
             0.4,
             "#fde0ef"
            ],
            [
             0.5,
             "#f7f7f7"
            ],
            [
             0.6,
             "#e6f5d0"
            ],
            [
             0.7,
             "#b8e186"
            ],
            [
             0.8,
             "#7fbc41"
            ],
            [
             0.9,
             "#4d9221"
            ],
            [
             1,
             "#276419"
            ]
           ],
           "sequential": [
            [
             0,
             "#0d0887"
            ],
            [
             0.1111111111111111,
             "#46039f"
            ],
            [
             0.2222222222222222,
             "#7201a8"
            ],
            [
             0.3333333333333333,
             "#9c179e"
            ],
            [
             0.4444444444444444,
             "#bd3786"
            ],
            [
             0.5555555555555556,
             "#d8576b"
            ],
            [
             0.6666666666666666,
             "#ed7953"
            ],
            [
             0.7777777777777778,
             "#fb9f3a"
            ],
            [
             0.8888888888888888,
             "#fdca26"
            ],
            [
             1,
             "#f0f921"
            ]
           ],
           "sequentialminus": [
            [
             0,
             "#0d0887"
            ],
            [
             0.1111111111111111,
             "#46039f"
            ],
            [
             0.2222222222222222,
             "#7201a8"
            ],
            [
             0.3333333333333333,
             "#9c179e"
            ],
            [
             0.4444444444444444,
             "#bd3786"
            ],
            [
             0.5555555555555556,
             "#d8576b"
            ],
            [
             0.6666666666666666,
             "#ed7953"
            ],
            [
             0.7777777777777778,
             "#fb9f3a"
            ],
            [
             0.8888888888888888,
             "#fdca26"
            ],
            [
             1,
             "#f0f921"
            ]
           ]
          },
          "colorway": [
           "#636efa",
           "#EF553B",
           "#00cc96",
           "#ab63fa",
           "#FFA15A",
           "#19d3f3",
           "#FF6692",
           "#B6E880",
           "#FF97FF",
           "#FECB52"
          ],
          "font": {
           "color": "#2a3f5f"
          },
          "geo": {
           "bgcolor": "white",
           "lakecolor": "white",
           "landcolor": "#E5ECF6",
           "showlakes": true,
           "showland": true,
           "subunitcolor": "white"
          },
          "hoverlabel": {
           "align": "left"
          },
          "hovermode": "closest",
          "mapbox": {
           "style": "light"
          },
          "paper_bgcolor": "white",
          "plot_bgcolor": "#E5ECF6",
          "polar": {
           "angularaxis": {
            "gridcolor": "white",
            "linecolor": "white",
            "ticks": ""
           },
           "bgcolor": "#E5ECF6",
           "radialaxis": {
            "gridcolor": "white",
            "linecolor": "white",
            "ticks": ""
           }
          },
          "scene": {
           "xaxis": {
            "backgroundcolor": "#E5ECF6",
            "gridcolor": "white",
            "gridwidth": 2,
            "linecolor": "white",
            "showbackground": true,
            "ticks": "",
            "zerolinecolor": "white"
           },
           "yaxis": {
            "backgroundcolor": "#E5ECF6",
            "gridcolor": "white",
            "gridwidth": 2,
            "linecolor": "white",
            "showbackground": true,
            "ticks": "",
            "zerolinecolor": "white"
           },
           "zaxis": {
            "backgroundcolor": "#E5ECF6",
            "gridcolor": "white",
            "gridwidth": 2,
            "linecolor": "white",
            "showbackground": true,
            "ticks": "",
            "zerolinecolor": "white"
           }
          },
          "shapedefaults": {
           "line": {
            "color": "#2a3f5f"
           }
          },
          "ternary": {
           "aaxis": {
            "gridcolor": "white",
            "linecolor": "white",
            "ticks": ""
           },
           "baxis": {
            "gridcolor": "white",
            "linecolor": "white",
            "ticks": ""
           },
           "bgcolor": "#E5ECF6",
           "caxis": {
            "gridcolor": "white",
            "linecolor": "white",
            "ticks": ""
           }
          },
          "title": {
           "x": 0.05
          },
          "xaxis": {
           "automargin": true,
           "gridcolor": "white",
           "linecolor": "white",
           "ticks": "",
           "title": {
            "standoff": 15
           },
           "zerolinecolor": "white",
           "zerolinewidth": 2
          },
          "yaxis": {
           "automargin": true,
           "gridcolor": "white",
           "linecolor": "white",
           "ticks": "",
           "title": {
            "standoff": 15
           },
           "zerolinecolor": "white",
           "zerolinewidth": 2
          }
         }
        },
        "xaxis": {
         "anchor": "y",
         "domain": [
          0,
          1
         ],
         "title": {
          "text": "suggested_bid"
         }
        },
        "yaxis": {
         "anchor": "x",
         "domain": [
          0,
          1
         ],
         "title": {
          "text": "avg_monthly_searches"
         }
        }
       }
      }
     },
     "metadata": {},
     "output_type": "display_data"
    }
   ],
   "source": [
    "fig = px.scatter(df_filtered, x='suggested_bid', y='avg_monthly_searches',  color='platform', hover_data=['keyword', 'competition'])\n",
    "fig.show()"
   ]
  },
  {
   "cell_type": "code",
   "execution_count": 14,
   "metadata": {},
   "outputs": [
    {
     "data": {
      "application/vnd.plotly.v1+json": {
       "config": {
        "plotlyServerURL": "https://plot.ly"
       },
       "data": [
        {
         "customdata": [
          [
           "ki technologie",
           "Mittel"
          ],
          [
           "ki künstliche intelligenz",
           "Gering"
          ]
         ],
         "hovertemplate": "platform=bing<br>costs_per_mo=%{x}<br>avg_monthly_searches=%{y}<br>keyword=%{customdata[0]}<br>competition=%{customdata[1]}<extra></extra>",
         "legendgroup": "bing",
         "marker": {
          "color": "#636efa",
          "symbol": "circle"
         },
         "mode": "markers",
         "name": "bing",
         "orientation": "v",
         "showlegend": true,
         "type": "scatter",
         "x": [
          1.53,
          1.45
         ],
         "xaxis": "x",
         "y": [
          20,
          50
         ],
         "yaxis": "y"
        },
        {
         "customdata": [
          [
           "ki und big data",
           "Gering"
          ],
          [
           "ki datenanalyse",
           "Mittel"
          ],
          [
           "ki daten",
           "Gering"
          ],
          [
           "ki nutzen",
           "Gering"
          ],
          [
           "ki oder ai",
           "Gering"
          ],
          [
           "ki einsatz",
           "Mittel"
          ],
          [
           "ki analyse",
           "Mittel"
          ],
          [
           "gibt es ki",
           "Gering"
          ],
          [
           "ki seminar",
           "Hoch"
          ],
          [
           "eine ki",
           "Gering"
          ],
          [
           "data science ki",
           "Mittel"
          ],
          [
           "rpa und ki",
           "Hoch"
          ],
          [
           "ki prognose",
           "Gering"
          ],
          [
           "ki automatisierung",
           "Mittel"
          ],
          [
           "methoden der ki",
           "Mittel"
          ],
          [
           "ai und ki",
           "Mittel"
          ],
          [
           "ki big data",
           "Gering"
          ],
          [
           "ki anwendungsbereiche",
           "Mittel"
          ],
          [
           "entwicklung ki",
           "Mittel"
          ],
          [
           "einsatz von ki",
           "Mittel"
          ],
          [
           "rpa ki",
           "Mittel"
          ],
          [
           "ki bereiche",
           "Gering"
          ],
          [
           "anwendungsbereiche ki",
           "Mittel"
          ],
          [
           "ki wissen",
           "Gering"
          ],
          [
           "ki im unternehmen",
           "Hoch"
          ],
          [
           "ki verfahren",
           "Gering"
          ],
          [
           "ki und ai",
           "Mittel"
          ],
          [
           "ki in unternehmen",
           "Hoch"
          ],
          [
           "künstliche intelligenz ki",
           "Gering"
          ],
          [
           "ki technologien",
           "Mittel"
          ],
          [
           "ki intelligenz",
           "Mittel"
          ],
          [
           "ki methoden",
           "Gering"
          ],
          [
           "ki modell",
           "Gering"
          ],
          [
           "ki technologie",
           "Mittel"
          ],
          [
           "ki künstliche intelligenz",
           "Mittel"
          ],
          [
           "ki unternehmen",
           "Mittel"
          ]
         ],
         "hovertemplate": "platform=google<br>costs_per_mo=%{x}<br>avg_monthly_searches=%{y}<br>keyword=%{customdata[0]}<br>competition=%{customdata[1]}<extra></extra>",
         "legendgroup": "google",
         "marker": {
          "color": "#EF553B",
          "symbol": "circle"
         },
         "mode": "markers",
         "name": "google",
         "orientation": "v",
         "showlegend": true,
         "type": "scatter",
         "x": [
          1.4,
          3.06,
          2.46,
          1.46,
          1.05,
          1.45,
          1.25,
          1.04,
          1.92,
          1,
          1.97,
          5.88,
          1.12,
          11.28,
          2.175,
          2.0999999999999996,
          2.79,
          2.175,
          5.115,
          2.2800000000000002,
          10.065,
          2.56,
          2.86,
          2.76,
          6.22,
          2.74,
          3.4000000000000004,
          9.9,
          5.46,
          5.915,
          9.030000000000001,
          7.92,
          16.099999999999998,
          13.94,
          16.38,
          34.06
         ],
         "xaxis": "x",
         "y": [
          20,
          20,
          20,
          20,
          20,
          20,
          20,
          20,
          20,
          20,
          20,
          20,
          20,
          20,
          30,
          30,
          30,
          30,
          30,
          30,
          30,
          40,
          40,
          40,
          40,
          40,
          50,
          50,
          70,
          70,
          70,
          110,
          140,
          170,
          210,
          260
         ],
         "yaxis": "y"
        }
       ],
       "layout": {
        "legend": {
         "title": {
          "text": "platform"
         },
         "tracegroupgap": 0
        },
        "margin": {
         "t": 60
        },
        "template": {
         "data": {
          "bar": [
           {
            "error_x": {
             "color": "#2a3f5f"
            },
            "error_y": {
             "color": "#2a3f5f"
            },
            "marker": {
             "line": {
              "color": "#E5ECF6",
              "width": 0.5
             },
             "pattern": {
              "fillmode": "overlay",
              "size": 10,
              "solidity": 0.2
             }
            },
            "type": "bar"
           }
          ],
          "barpolar": [
           {
            "marker": {
             "line": {
              "color": "#E5ECF6",
              "width": 0.5
             },
             "pattern": {
              "fillmode": "overlay",
              "size": 10,
              "solidity": 0.2
             }
            },
            "type": "barpolar"
           }
          ],
          "carpet": [
           {
            "aaxis": {
             "endlinecolor": "#2a3f5f",
             "gridcolor": "white",
             "linecolor": "white",
             "minorgridcolor": "white",
             "startlinecolor": "#2a3f5f"
            },
            "baxis": {
             "endlinecolor": "#2a3f5f",
             "gridcolor": "white",
             "linecolor": "white",
             "minorgridcolor": "white",
             "startlinecolor": "#2a3f5f"
            },
            "type": "carpet"
           }
          ],
          "choropleth": [
           {
            "colorbar": {
             "outlinewidth": 0,
             "ticks": ""
            },
            "type": "choropleth"
           }
          ],
          "contour": [
           {
            "colorbar": {
             "outlinewidth": 0,
             "ticks": ""
            },
            "colorscale": [
             [
              0,
              "#0d0887"
             ],
             [
              0.1111111111111111,
              "#46039f"
             ],
             [
              0.2222222222222222,
              "#7201a8"
             ],
             [
              0.3333333333333333,
              "#9c179e"
             ],
             [
              0.4444444444444444,
              "#bd3786"
             ],
             [
              0.5555555555555556,
              "#d8576b"
             ],
             [
              0.6666666666666666,
              "#ed7953"
             ],
             [
              0.7777777777777778,
              "#fb9f3a"
             ],
             [
              0.8888888888888888,
              "#fdca26"
             ],
             [
              1,
              "#f0f921"
             ]
            ],
            "type": "contour"
           }
          ],
          "contourcarpet": [
           {
            "colorbar": {
             "outlinewidth": 0,
             "ticks": ""
            },
            "type": "contourcarpet"
           }
          ],
          "heatmap": [
           {
            "colorbar": {
             "outlinewidth": 0,
             "ticks": ""
            },
            "colorscale": [
             [
              0,
              "#0d0887"
             ],
             [
              0.1111111111111111,
              "#46039f"
             ],
             [
              0.2222222222222222,
              "#7201a8"
             ],
             [
              0.3333333333333333,
              "#9c179e"
             ],
             [
              0.4444444444444444,
              "#bd3786"
             ],
             [
              0.5555555555555556,
              "#d8576b"
             ],
             [
              0.6666666666666666,
              "#ed7953"
             ],
             [
              0.7777777777777778,
              "#fb9f3a"
             ],
             [
              0.8888888888888888,
              "#fdca26"
             ],
             [
              1,
              "#f0f921"
             ]
            ],
            "type": "heatmap"
           }
          ],
          "heatmapgl": [
           {
            "colorbar": {
             "outlinewidth": 0,
             "ticks": ""
            },
            "colorscale": [
             [
              0,
              "#0d0887"
             ],
             [
              0.1111111111111111,
              "#46039f"
             ],
             [
              0.2222222222222222,
              "#7201a8"
             ],
             [
              0.3333333333333333,
              "#9c179e"
             ],
             [
              0.4444444444444444,
              "#bd3786"
             ],
             [
              0.5555555555555556,
              "#d8576b"
             ],
             [
              0.6666666666666666,
              "#ed7953"
             ],
             [
              0.7777777777777778,
              "#fb9f3a"
             ],
             [
              0.8888888888888888,
              "#fdca26"
             ],
             [
              1,
              "#f0f921"
             ]
            ],
            "type": "heatmapgl"
           }
          ],
          "histogram": [
           {
            "marker": {
             "pattern": {
              "fillmode": "overlay",
              "size": 10,
              "solidity": 0.2
             }
            },
            "type": "histogram"
           }
          ],
          "histogram2d": [
           {
            "colorbar": {
             "outlinewidth": 0,
             "ticks": ""
            },
            "colorscale": [
             [
              0,
              "#0d0887"
             ],
             [
              0.1111111111111111,
              "#46039f"
             ],
             [
              0.2222222222222222,
              "#7201a8"
             ],
             [
              0.3333333333333333,
              "#9c179e"
             ],
             [
              0.4444444444444444,
              "#bd3786"
             ],
             [
              0.5555555555555556,
              "#d8576b"
             ],
             [
              0.6666666666666666,
              "#ed7953"
             ],
             [
              0.7777777777777778,
              "#fb9f3a"
             ],
             [
              0.8888888888888888,
              "#fdca26"
             ],
             [
              1,
              "#f0f921"
             ]
            ],
            "type": "histogram2d"
           }
          ],
          "histogram2dcontour": [
           {
            "colorbar": {
             "outlinewidth": 0,
             "ticks": ""
            },
            "colorscale": [
             [
              0,
              "#0d0887"
             ],
             [
              0.1111111111111111,
              "#46039f"
             ],
             [
              0.2222222222222222,
              "#7201a8"
             ],
             [
              0.3333333333333333,
              "#9c179e"
             ],
             [
              0.4444444444444444,
              "#bd3786"
             ],
             [
              0.5555555555555556,
              "#d8576b"
             ],
             [
              0.6666666666666666,
              "#ed7953"
             ],
             [
              0.7777777777777778,
              "#fb9f3a"
             ],
             [
              0.8888888888888888,
              "#fdca26"
             ],
             [
              1,
              "#f0f921"
             ]
            ],
            "type": "histogram2dcontour"
           }
          ],
          "mesh3d": [
           {
            "colorbar": {
             "outlinewidth": 0,
             "ticks": ""
            },
            "type": "mesh3d"
           }
          ],
          "parcoords": [
           {
            "line": {
             "colorbar": {
              "outlinewidth": 0,
              "ticks": ""
             }
            },
            "type": "parcoords"
           }
          ],
          "pie": [
           {
            "automargin": true,
            "type": "pie"
           }
          ],
          "scatter": [
           {
            "marker": {
             "colorbar": {
              "outlinewidth": 0,
              "ticks": ""
             }
            },
            "type": "scatter"
           }
          ],
          "scatter3d": [
           {
            "line": {
             "colorbar": {
              "outlinewidth": 0,
              "ticks": ""
             }
            },
            "marker": {
             "colorbar": {
              "outlinewidth": 0,
              "ticks": ""
             }
            },
            "type": "scatter3d"
           }
          ],
          "scattercarpet": [
           {
            "marker": {
             "colorbar": {
              "outlinewidth": 0,
              "ticks": ""
             }
            },
            "type": "scattercarpet"
           }
          ],
          "scattergeo": [
           {
            "marker": {
             "colorbar": {
              "outlinewidth": 0,
              "ticks": ""
             }
            },
            "type": "scattergeo"
           }
          ],
          "scattergl": [
           {
            "marker": {
             "colorbar": {
              "outlinewidth": 0,
              "ticks": ""
             }
            },
            "type": "scattergl"
           }
          ],
          "scattermapbox": [
           {
            "marker": {
             "colorbar": {
              "outlinewidth": 0,
              "ticks": ""
             }
            },
            "type": "scattermapbox"
           }
          ],
          "scatterpolar": [
           {
            "marker": {
             "colorbar": {
              "outlinewidth": 0,
              "ticks": ""
             }
            },
            "type": "scatterpolar"
           }
          ],
          "scatterpolargl": [
           {
            "marker": {
             "colorbar": {
              "outlinewidth": 0,
              "ticks": ""
             }
            },
            "type": "scatterpolargl"
           }
          ],
          "scatterternary": [
           {
            "marker": {
             "colorbar": {
              "outlinewidth": 0,
              "ticks": ""
             }
            },
            "type": "scatterternary"
           }
          ],
          "surface": [
           {
            "colorbar": {
             "outlinewidth": 0,
             "ticks": ""
            },
            "colorscale": [
             [
              0,
              "#0d0887"
             ],
             [
              0.1111111111111111,
              "#46039f"
             ],
             [
              0.2222222222222222,
              "#7201a8"
             ],
             [
              0.3333333333333333,
              "#9c179e"
             ],
             [
              0.4444444444444444,
              "#bd3786"
             ],
             [
              0.5555555555555556,
              "#d8576b"
             ],
             [
              0.6666666666666666,
              "#ed7953"
             ],
             [
              0.7777777777777778,
              "#fb9f3a"
             ],
             [
              0.8888888888888888,
              "#fdca26"
             ],
             [
              1,
              "#f0f921"
             ]
            ],
            "type": "surface"
           }
          ],
          "table": [
           {
            "cells": {
             "fill": {
              "color": "#EBF0F8"
             },
             "line": {
              "color": "white"
             }
            },
            "header": {
             "fill": {
              "color": "#C8D4E3"
             },
             "line": {
              "color": "white"
             }
            },
            "type": "table"
           }
          ]
         },
         "layout": {
          "annotationdefaults": {
           "arrowcolor": "#2a3f5f",
           "arrowhead": 0,
           "arrowwidth": 1
          },
          "autotypenumbers": "strict",
          "coloraxis": {
           "colorbar": {
            "outlinewidth": 0,
            "ticks": ""
           }
          },
          "colorscale": {
           "diverging": [
            [
             0,
             "#8e0152"
            ],
            [
             0.1,
             "#c51b7d"
            ],
            [
             0.2,
             "#de77ae"
            ],
            [
             0.3,
             "#f1b6da"
            ],
            [
             0.4,
             "#fde0ef"
            ],
            [
             0.5,
             "#f7f7f7"
            ],
            [
             0.6,
             "#e6f5d0"
            ],
            [
             0.7,
             "#b8e186"
            ],
            [
             0.8,
             "#7fbc41"
            ],
            [
             0.9,
             "#4d9221"
            ],
            [
             1,
             "#276419"
            ]
           ],
           "sequential": [
            [
             0,
             "#0d0887"
            ],
            [
             0.1111111111111111,
             "#46039f"
            ],
            [
             0.2222222222222222,
             "#7201a8"
            ],
            [
             0.3333333333333333,
             "#9c179e"
            ],
            [
             0.4444444444444444,
             "#bd3786"
            ],
            [
             0.5555555555555556,
             "#d8576b"
            ],
            [
             0.6666666666666666,
             "#ed7953"
            ],
            [
             0.7777777777777778,
             "#fb9f3a"
            ],
            [
             0.8888888888888888,
             "#fdca26"
            ],
            [
             1,
             "#f0f921"
            ]
           ],
           "sequentialminus": [
            [
             0,
             "#0d0887"
            ],
            [
             0.1111111111111111,
             "#46039f"
            ],
            [
             0.2222222222222222,
             "#7201a8"
            ],
            [
             0.3333333333333333,
             "#9c179e"
            ],
            [
             0.4444444444444444,
             "#bd3786"
            ],
            [
             0.5555555555555556,
             "#d8576b"
            ],
            [
             0.6666666666666666,
             "#ed7953"
            ],
            [
             0.7777777777777778,
             "#fb9f3a"
            ],
            [
             0.8888888888888888,
             "#fdca26"
            ],
            [
             1,
             "#f0f921"
            ]
           ]
          },
          "colorway": [
           "#636efa",
           "#EF553B",
           "#00cc96",
           "#ab63fa",
           "#FFA15A",
           "#19d3f3",
           "#FF6692",
           "#B6E880",
           "#FF97FF",
           "#FECB52"
          ],
          "font": {
           "color": "#2a3f5f"
          },
          "geo": {
           "bgcolor": "white",
           "lakecolor": "white",
           "landcolor": "#E5ECF6",
           "showlakes": true,
           "showland": true,
           "subunitcolor": "white"
          },
          "hoverlabel": {
           "align": "left"
          },
          "hovermode": "closest",
          "mapbox": {
           "style": "light"
          },
          "paper_bgcolor": "white",
          "plot_bgcolor": "#E5ECF6",
          "polar": {
           "angularaxis": {
            "gridcolor": "white",
            "linecolor": "white",
            "ticks": ""
           },
           "bgcolor": "#E5ECF6",
           "radialaxis": {
            "gridcolor": "white",
            "linecolor": "white",
            "ticks": ""
           }
          },
          "scene": {
           "xaxis": {
            "backgroundcolor": "#E5ECF6",
            "gridcolor": "white",
            "gridwidth": 2,
            "linecolor": "white",
            "showbackground": true,
            "ticks": "",
            "zerolinecolor": "white"
           },
           "yaxis": {
            "backgroundcolor": "#E5ECF6",
            "gridcolor": "white",
            "gridwidth": 2,
            "linecolor": "white",
            "showbackground": true,
            "ticks": "",
            "zerolinecolor": "white"
           },
           "zaxis": {
            "backgroundcolor": "#E5ECF6",
            "gridcolor": "white",
            "gridwidth": 2,
            "linecolor": "white",
            "showbackground": true,
            "ticks": "",
            "zerolinecolor": "white"
           }
          },
          "shapedefaults": {
           "line": {
            "color": "#2a3f5f"
           }
          },
          "ternary": {
           "aaxis": {
            "gridcolor": "white",
            "linecolor": "white",
            "ticks": ""
           },
           "baxis": {
            "gridcolor": "white",
            "linecolor": "white",
            "ticks": ""
           },
           "bgcolor": "#E5ECF6",
           "caxis": {
            "gridcolor": "white",
            "linecolor": "white",
            "ticks": ""
           }
          },
          "title": {
           "x": 0.05
          },
          "xaxis": {
           "automargin": true,
           "gridcolor": "white",
           "linecolor": "white",
           "ticks": "",
           "title": {
            "standoff": 15
           },
           "zerolinecolor": "white",
           "zerolinewidth": 2
          },
          "yaxis": {
           "automargin": true,
           "gridcolor": "white",
           "linecolor": "white",
           "ticks": "",
           "title": {
            "standoff": 15
           },
           "zerolinecolor": "white",
           "zerolinewidth": 2
          }
         }
        },
        "xaxis": {
         "anchor": "y",
         "domain": [
          0,
          1
         ],
         "title": {
          "text": "costs_per_mo"
         }
        },
        "yaxis": {
         "anchor": "x",
         "domain": [
          0,
          1
         ],
         "title": {
          "text": "avg_monthly_searches"
         }
        }
       }
      }
     },
     "metadata": {},
     "output_type": "display_data"
    }
   ],
   "source": [
    "fig = px.scatter(df_filtered, x='costs_per_mo', y='avg_monthly_searches',  color='platform', hover_data=['keyword', 'competition'])\n",
    "fig.show()"
   ]
  },
  {
   "cell_type": "code",
   "execution_count": 15,
   "metadata": {},
   "outputs": [
    {
     "data": {
      "text/plain": [
       "clicks_per_mo     98.000\n",
       "costs_per_mo     205.265\n",
       "dtype: float64"
      ]
     },
     "execution_count": 15,
     "metadata": {},
     "output_type": "execute_result"
    }
   ],
   "source": [
    "df_filtered[['clicks_per_mo', 'costs_per_mo']].sum()"
   ]
  },
  {
   "cell_type": "code",
   "execution_count": 16,
   "metadata": {},
   "outputs": [],
   "source": [
    "budget = 50"
   ]
  },
  {
   "cell_type": "code",
   "execution_count": 17,
   "metadata": {},
   "outputs": [
    {
     "data": {
      "text/html": [
       "<div>\n",
       "<style scoped>\n",
       "    .dataframe tbody tr th:only-of-type {\n",
       "        vertical-align: middle;\n",
       "    }\n",
       "\n",
       "    .dataframe tbody tr th {\n",
       "        vertical-align: top;\n",
       "    }\n",
       "\n",
       "    .dataframe thead th {\n",
       "        text-align: right;\n",
       "    }\n",
       "</style>\n",
       "<table border=\"1\" class=\"dataframe\">\n",
       "  <thead>\n",
       "    <tr style=\"text-align: right;\">\n",
       "      <th></th>\n",
       "      <th>keyword</th>\n",
       "      <th>avg_monthly_searches</th>\n",
       "      <th>competition</th>\n",
       "      <th>platform</th>\n",
       "      <th>suggested_bid</th>\n",
       "      <th>clicks_per_mo</th>\n",
       "      <th>costs_per_mo</th>\n",
       "    </tr>\n",
       "  </thead>\n",
       "  <tbody>\n",
       "    <tr>\n",
       "      <th>0</th>\n",
       "      <td>ki unternehmen</td>\n",
       "      <td>260.0</td>\n",
       "      <td>Mittel</td>\n",
       "      <td>google</td>\n",
       "      <td>2.62</td>\n",
       "      <td>13.0</td>\n",
       "      <td>34.060</td>\n",
       "    </tr>\n",
       "    <tr>\n",
       "      <th>1</th>\n",
       "      <td>ki künstliche intelligenz</td>\n",
       "      <td>210.0</td>\n",
       "      <td>Mittel</td>\n",
       "      <td>google</td>\n",
       "      <td>1.56</td>\n",
       "      <td>10.5</td>\n",
       "      <td>16.380</td>\n",
       "    </tr>\n",
       "    <tr>\n",
       "      <th>2</th>\n",
       "      <td>ki technologie</td>\n",
       "      <td>170.0</td>\n",
       "      <td>Mittel</td>\n",
       "      <td>google</td>\n",
       "      <td>1.64</td>\n",
       "      <td>8.5</td>\n",
       "      <td>13.940</td>\n",
       "    </tr>\n",
       "    <tr>\n",
       "      <th>3</th>\n",
       "      <td>ki modell</td>\n",
       "      <td>140.0</td>\n",
       "      <td>Gering</td>\n",
       "      <td>google</td>\n",
       "      <td>2.30</td>\n",
       "      <td>7.0</td>\n",
       "      <td>16.100</td>\n",
       "    </tr>\n",
       "    <tr>\n",
       "      <th>4</th>\n",
       "      <td>ki methoden</td>\n",
       "      <td>110.0</td>\n",
       "      <td>Gering</td>\n",
       "      <td>google</td>\n",
       "      <td>1.44</td>\n",
       "      <td>5.5</td>\n",
       "      <td>7.920</td>\n",
       "    </tr>\n",
       "    <tr>\n",
       "      <th>5</th>\n",
       "      <td>künstliche intelligenz ki</td>\n",
       "      <td>70.0</td>\n",
       "      <td>Gering</td>\n",
       "      <td>google</td>\n",
       "      <td>1.56</td>\n",
       "      <td>3.5</td>\n",
       "      <td>5.460</td>\n",
       "    </tr>\n",
       "    <tr>\n",
       "      <th>6</th>\n",
       "      <td>ki technologien</td>\n",
       "      <td>70.0</td>\n",
       "      <td>Mittel</td>\n",
       "      <td>google</td>\n",
       "      <td>1.69</td>\n",
       "      <td>3.5</td>\n",
       "      <td>5.915</td>\n",
       "    </tr>\n",
       "    <tr>\n",
       "      <th>7</th>\n",
       "      <td>ki intelligenz</td>\n",
       "      <td>70.0</td>\n",
       "      <td>Mittel</td>\n",
       "      <td>google</td>\n",
       "      <td>2.58</td>\n",
       "      <td>3.5</td>\n",
       "      <td>9.030</td>\n",
       "    </tr>\n",
       "    <tr>\n",
       "      <th>8</th>\n",
       "      <td>ki künstliche intelligenz</td>\n",
       "      <td>50.0</td>\n",
       "      <td>Gering</td>\n",
       "      <td>bing</td>\n",
       "      <td>0.58</td>\n",
       "      <td>2.5</td>\n",
       "      <td>1.450</td>\n",
       "    </tr>\n",
       "    <tr>\n",
       "      <th>9</th>\n",
       "      <td>ki und ai</td>\n",
       "      <td>50.0</td>\n",
       "      <td>Mittel</td>\n",
       "      <td>google</td>\n",
       "      <td>1.36</td>\n",
       "      <td>2.5</td>\n",
       "      <td>3.400</td>\n",
       "    </tr>\n",
       "    <tr>\n",
       "      <th>10</th>\n",
       "      <td>ki in unternehmen</td>\n",
       "      <td>50.0</td>\n",
       "      <td>Hoch</td>\n",
       "      <td>google</td>\n",
       "      <td>3.96</td>\n",
       "      <td>2.5</td>\n",
       "      <td>9.900</td>\n",
       "    </tr>\n",
       "    <tr>\n",
       "      <th>11</th>\n",
       "      <td>ki bereiche</td>\n",
       "      <td>40.0</td>\n",
       "      <td>Gering</td>\n",
       "      <td>google</td>\n",
       "      <td>1.28</td>\n",
       "      <td>2.0</td>\n",
       "      <td>2.560</td>\n",
       "    </tr>\n",
       "    <tr>\n",
       "      <th>12</th>\n",
       "      <td>ki verfahren</td>\n",
       "      <td>40.0</td>\n",
       "      <td>Gering</td>\n",
       "      <td>google</td>\n",
       "      <td>1.37</td>\n",
       "      <td>2.0</td>\n",
       "      <td>2.740</td>\n",
       "    </tr>\n",
       "    <tr>\n",
       "      <th>13</th>\n",
       "      <td>ki wissen</td>\n",
       "      <td>40.0</td>\n",
       "      <td>Gering</td>\n",
       "      <td>google</td>\n",
       "      <td>1.38</td>\n",
       "      <td>2.0</td>\n",
       "      <td>2.760</td>\n",
       "    </tr>\n",
       "    <tr>\n",
       "      <th>14</th>\n",
       "      <td>anwendungsbereiche ki</td>\n",
       "      <td>40.0</td>\n",
       "      <td>Mittel</td>\n",
       "      <td>google</td>\n",
       "      <td>1.43</td>\n",
       "      <td>2.0</td>\n",
       "      <td>2.860</td>\n",
       "    </tr>\n",
       "    <tr>\n",
       "      <th>15</th>\n",
       "      <td>ki im unternehmen</td>\n",
       "      <td>40.0</td>\n",
       "      <td>Hoch</td>\n",
       "      <td>google</td>\n",
       "      <td>3.11</td>\n",
       "      <td>2.0</td>\n",
       "      <td>6.220</td>\n",
       "    </tr>\n",
       "    <tr>\n",
       "      <th>16</th>\n",
       "      <td>ai und ki</td>\n",
       "      <td>30.0</td>\n",
       "      <td>Mittel</td>\n",
       "      <td>google</td>\n",
       "      <td>1.40</td>\n",
       "      <td>1.5</td>\n",
       "      <td>2.100</td>\n",
       "    </tr>\n",
       "    <tr>\n",
       "      <th>17</th>\n",
       "      <td>methoden der ki</td>\n",
       "      <td>30.0</td>\n",
       "      <td>Mittel</td>\n",
       "      <td>google</td>\n",
       "      <td>1.45</td>\n",
       "      <td>1.5</td>\n",
       "      <td>2.175</td>\n",
       "    </tr>\n",
       "    <tr>\n",
       "      <th>18</th>\n",
       "      <td>ki anwendungsbereiche</td>\n",
       "      <td>30.0</td>\n",
       "      <td>Mittel</td>\n",
       "      <td>google</td>\n",
       "      <td>1.45</td>\n",
       "      <td>1.5</td>\n",
       "      <td>2.175</td>\n",
       "    </tr>\n",
       "    <tr>\n",
       "      <th>19</th>\n",
       "      <td>einsatz von ki</td>\n",
       "      <td>30.0</td>\n",
       "      <td>Mittel</td>\n",
       "      <td>google</td>\n",
       "      <td>1.52</td>\n",
       "      <td>1.5</td>\n",
       "      <td>2.280</td>\n",
       "    </tr>\n",
       "    <tr>\n",
       "      <th>20</th>\n",
       "      <td>ki big data</td>\n",
       "      <td>30.0</td>\n",
       "      <td>Gering</td>\n",
       "      <td>google</td>\n",
       "      <td>1.86</td>\n",
       "      <td>1.5</td>\n",
       "      <td>2.790</td>\n",
       "    </tr>\n",
       "    <tr>\n",
       "      <th>21</th>\n",
       "      <td>entwicklung ki</td>\n",
       "      <td>30.0</td>\n",
       "      <td>Mittel</td>\n",
       "      <td>google</td>\n",
       "      <td>3.41</td>\n",
       "      <td>1.5</td>\n",
       "      <td>5.115</td>\n",
       "    </tr>\n",
       "  </tbody>\n",
       "</table>\n",
       "</div>"
      ],
      "text/plain": [
       "                      keyword  avg_monthly_searches competition platform  \\\n",
       "0              ki unternehmen                 260.0      Mittel   google   \n",
       "1   ki künstliche intelligenz                 210.0      Mittel   google   \n",
       "2              ki technologie                 170.0      Mittel   google   \n",
       "3                   ki modell                 140.0      Gering   google   \n",
       "4                 ki methoden                 110.0      Gering   google   \n",
       "5   künstliche intelligenz ki                  70.0      Gering   google   \n",
       "6             ki technologien                  70.0      Mittel   google   \n",
       "7              ki intelligenz                  70.0      Mittel   google   \n",
       "8   ki künstliche intelligenz                  50.0      Gering     bing   \n",
       "9                   ki und ai                  50.0      Mittel   google   \n",
       "10          ki in unternehmen                  50.0        Hoch   google   \n",
       "11                ki bereiche                  40.0      Gering   google   \n",
       "12               ki verfahren                  40.0      Gering   google   \n",
       "13                  ki wissen                  40.0      Gering   google   \n",
       "14      anwendungsbereiche ki                  40.0      Mittel   google   \n",
       "15          ki im unternehmen                  40.0        Hoch   google   \n",
       "16                  ai und ki                  30.0      Mittel   google   \n",
       "17            methoden der ki                  30.0      Mittel   google   \n",
       "18      ki anwendungsbereiche                  30.0      Mittel   google   \n",
       "19             einsatz von ki                  30.0      Mittel   google   \n",
       "20                ki big data                  30.0      Gering   google   \n",
       "21             entwicklung ki                  30.0      Mittel   google   \n",
       "\n",
       "    suggested_bid  clicks_per_mo  costs_per_mo  \n",
       "0            2.62           13.0        34.060  \n",
       "1            1.56           10.5        16.380  \n",
       "2            1.64            8.5        13.940  \n",
       "3            2.30            7.0        16.100  \n",
       "4            1.44            5.5         7.920  \n",
       "5            1.56            3.5         5.460  \n",
       "6            1.69            3.5         5.915  \n",
       "7            2.58            3.5         9.030  \n",
       "8            0.58            2.5         1.450  \n",
       "9            1.36            2.5         3.400  \n",
       "10           3.96            2.5         9.900  \n",
       "11           1.28            2.0         2.560  \n",
       "12           1.37            2.0         2.740  \n",
       "13           1.38            2.0         2.760  \n",
       "14           1.43            2.0         2.860  \n",
       "15           3.11            2.0         6.220  \n",
       "16           1.40            1.5         2.100  \n",
       "17           1.45            1.5         2.175  \n",
       "18           1.45            1.5         2.175  \n",
       "19           1.52            1.5         2.280  \n",
       "20           1.86            1.5         2.790  \n",
       "21           3.41            1.5         5.115  "
      ]
     },
     "execution_count": 17,
     "metadata": {},
     "output_type": "execute_result"
    }
   ],
   "source": [
    "df_max_clicks = df_filtered[df_filtered['costs_per_mo']<=budget].sort_values(['clicks_per_mo', 'costs_per_mo'], ascending=[False, True]).reset_index(drop=True)\n",
    "df_max_clicks.head(22)"
   ]
  },
  {
   "cell_type": "code",
   "execution_count": 18,
   "metadata": {},
   "outputs": [
    {
     "name": "stdout",
     "output_type": "stream",
     "text": [
      "Costs per month: 49.45 Euro\n",
      "Clicks per month: 24.0\n"
     ]
    },
    {
     "data": {
      "text/html": [
       "<div>\n",
       "<style scoped>\n",
       "    .dataframe tbody tr th:only-of-type {\n",
       "        vertical-align: middle;\n",
       "    }\n",
       "\n",
       "    .dataframe tbody tr th {\n",
       "        vertical-align: top;\n",
       "    }\n",
       "\n",
       "    .dataframe thead th {\n",
       "        text-align: right;\n",
       "    }\n",
       "</style>\n",
       "<table border=\"1\" class=\"dataframe\">\n",
       "  <thead>\n",
       "    <tr style=\"text-align: right;\">\n",
       "      <th></th>\n",
       "      <th>keyword</th>\n",
       "      <th>avg_monthly_searches</th>\n",
       "      <th>competition</th>\n",
       "      <th>platform</th>\n",
       "      <th>suggested_bid</th>\n",
       "      <th>clicks_per_mo</th>\n",
       "      <th>costs_per_mo</th>\n",
       "    </tr>\n",
       "  </thead>\n",
       "  <tbody>\n",
       "    <tr>\n",
       "      <th>0</th>\n",
       "      <td>ki unternehmen</td>\n",
       "      <td>260.0</td>\n",
       "      <td>Mittel</td>\n",
       "      <td>google</td>\n",
       "      <td>2.62</td>\n",
       "      <td>13.0</td>\n",
       "      <td>34.06</td>\n",
       "    </tr>\n",
       "    <tr>\n",
       "      <th>2</th>\n",
       "      <td>ki technologie</td>\n",
       "      <td>170.0</td>\n",
       "      <td>Mittel</td>\n",
       "      <td>google</td>\n",
       "      <td>1.64</td>\n",
       "      <td>8.5</td>\n",
       "      <td>13.94</td>\n",
       "    </tr>\n",
       "    <tr>\n",
       "      <th>8</th>\n",
       "      <td>ki künstliche intelligenz</td>\n",
       "      <td>50.0</td>\n",
       "      <td>Gering</td>\n",
       "      <td>bing</td>\n",
       "      <td>0.58</td>\n",
       "      <td>2.5</td>\n",
       "      <td>1.45</td>\n",
       "    </tr>\n",
       "  </tbody>\n",
       "</table>\n",
       "</div>"
      ],
      "text/plain": [
       "                     keyword  avg_monthly_searches competition platform  \\\n",
       "0             ki unternehmen                 260.0      Mittel   google   \n",
       "2             ki technologie                 170.0      Mittel   google   \n",
       "8  ki künstliche intelligenz                  50.0      Gering     bing   \n",
       "\n",
       "   suggested_bid  clicks_per_mo  costs_per_mo  \n",
       "0           2.62           13.0         34.06  \n",
       "2           1.64            8.5         13.94  \n",
       "8           0.58            2.5          1.45  "
      ]
     },
     "execution_count": 18,
     "metadata": {},
     "output_type": "execute_result"
    }
   ],
   "source": [
    "pos = []\n",
    "costs = 0.0\n",
    "for idx, row in df_max_clicks.iterrows():\n",
    "    if idx == 0:\n",
    "        pos.append(idx)\n",
    "        costs += row['costs_per_mo']\n",
    "    elif costs + row['costs_per_mo'] < budget:\n",
    "        pos.append(idx)\n",
    "        costs += row['costs_per_mo']\n",
    "\n",
    "print(f\"Costs per month: {costs} Euro\")\n",
    "print('Clicks per month: ' + str(df_max_clicks.iloc[pos]['clicks_per_mo'].sum()))\n",
    "df_max_clicks.iloc[pos]\n",
    "\n"
   ]
  },
  {
   "cell_type": "code",
   "execution_count": 19,
   "metadata": {},
   "outputs": [],
   "source": [
    "def clicks_max(df, keyword, budget):\n",
    "    \"\"\"\n",
    "    This function calculates the best combination of similar keywords by maximizing the clicks. \n",
    "    \"\"\"\n",
    "    # filter dataframe for similar keywords\n",
    "    df = df[(df['keyword'].str.contains(keyword, case=False)) & (df.suggested_bid.notnull())]\n",
    "\n",
    "    # filter dataframe for keywords with lower costs than budget\n",
    "    df = df[df['costs_per_mo']<=budget]\n",
    "    \n",
    "    # sort value by klicks descending and costs ascending\n",
    "    df = df.sort_values(['clicks_per_mo', 'costs_per_mo'], ascending=[False, True]).reset_index(drop=True)\n",
    "    \n",
    "    # define variables: empty list for the index of the optimal keywords; running sum of costs for optimal keywords\n",
    "    key_position = []\n",
    "    costs = 0.0\n",
    "\n",
    "    # loop through the filtered dataframe\n",
    "    for idx, row in df.iterrows():\n",
    "        # take the first row \n",
    "        if idx == 0:\n",
    "            key_position.append(idx)\n",
    "            costs += row['costs_per_mo']\n",
    "        # add costs of the additional keyword while running sum of budget is less then budget\n",
    "        elif costs + row['costs_per_mo'] <= budget:\n",
    "            key_position.append(idx)\n",
    "            costs += row['costs_per_mo']\n",
    "\n",
    "    # return total costs, klicks of best combination of similar keywords\n",
    "    print(f\"Costs per month: {costs} Euro\")\n",
    "    print('Clicks per month: ' + str(df.iloc[key_position]['clicks_per_mo'].sum()))\n",
    "    return df.iloc[key_position].reset_index(drop=True)\n"
   ]
  },
  {
   "cell_type": "code",
   "execution_count": 20,
   "metadata": {},
   "outputs": [
    {
     "name": "stdout",
     "output_type": "stream",
     "text": [
      "Costs per month: 49.765 Euro\n",
      "Clicks per month: 24.5\n"
     ]
    },
    {
     "data": {
      "text/html": [
       "<div>\n",
       "<style scoped>\n",
       "    .dataframe tbody tr th:only-of-type {\n",
       "        vertical-align: middle;\n",
       "    }\n",
       "\n",
       "    .dataframe tbody tr th {\n",
       "        vertical-align: top;\n",
       "    }\n",
       "\n",
       "    .dataframe thead th {\n",
       "        text-align: right;\n",
       "    }\n",
       "</style>\n",
       "<table border=\"1\" class=\"dataframe\">\n",
       "  <thead>\n",
       "    <tr style=\"text-align: right;\">\n",
       "      <th></th>\n",
       "      <th>keyword</th>\n",
       "      <th>avg_monthly_searches</th>\n",
       "      <th>competition</th>\n",
       "      <th>platform</th>\n",
       "      <th>suggested_bid</th>\n",
       "      <th>clicks_per_mo</th>\n",
       "      <th>costs_per_mo</th>\n",
       "    </tr>\n",
       "  </thead>\n",
       "  <tbody>\n",
       "    <tr>\n",
       "      <th>0</th>\n",
       "      <td>ki unternehmen</td>\n",
       "      <td>260.0</td>\n",
       "      <td>Mittel</td>\n",
       "      <td>google</td>\n",
       "      <td>2.62</td>\n",
       "      <td>13.0</td>\n",
       "      <td>34.060</td>\n",
       "    </tr>\n",
       "    <tr>\n",
       "      <th>1</th>\n",
       "      <td>ki technologie</td>\n",
       "      <td>170.0</td>\n",
       "      <td>Mittel</td>\n",
       "      <td>google</td>\n",
       "      <td>1.64</td>\n",
       "      <td>8.5</td>\n",
       "      <td>13.940</td>\n",
       "    </tr>\n",
       "    <tr>\n",
       "      <th>2</th>\n",
       "      <td>ki künstliche intelligenz</td>\n",
       "      <td>50.0</td>\n",
       "      <td>Gering</td>\n",
       "      <td>bing</td>\n",
       "      <td>0.58</td>\n",
       "      <td>2.5</td>\n",
       "      <td>1.450</td>\n",
       "    </tr>\n",
       "    <tr>\n",
       "      <th>3</th>\n",
       "      <td>ki modell</td>\n",
       "      <td>10.0</td>\n",
       "      <td>Gering</td>\n",
       "      <td>bing</td>\n",
       "      <td>0.63</td>\n",
       "      <td>0.5</td>\n",
       "      <td>0.315</td>\n",
       "    </tr>\n",
       "  </tbody>\n",
       "</table>\n",
       "</div>"
      ],
      "text/plain": [
       "                     keyword  avg_monthly_searches competition platform  \\\n",
       "0             ki unternehmen                 260.0      Mittel   google   \n",
       "1             ki technologie                 170.0      Mittel   google   \n",
       "2  ki künstliche intelligenz                  50.0      Gering     bing   \n",
       "3                  ki modell                  10.0      Gering     bing   \n",
       "\n",
       "   suggested_bid  clicks_per_mo  costs_per_mo  \n",
       "0           2.62           13.0        34.060  \n",
       "1           1.64            8.5        13.940  \n",
       "2           0.58            2.5         1.450  \n",
       "3           0.63            0.5         0.315  "
      ]
     },
     "execution_count": 20,
     "metadata": {},
     "output_type": "execute_result"
    }
   ],
   "source": [
    "clicks_max(df, 'ki | ki', 50)"
   ]
  },
  {
   "cell_type": "code",
   "execution_count": 21,
   "metadata": {},
   "outputs": [],
   "source": [
    "def costs_min(df, keyword, clicks_goal):\n",
    "    \"\"\"\n",
    "    This function calculates the best combination of similar keywords by minimizing the costs. \n",
    "    \"\"\"\n",
    "    # filter dataframe for similar keywords\n",
    "    df = df[(df['keyword'].str.contains(keyword, case=False)) & (df.suggested_bid.notnull())]\n",
    "\n",
    "    # filter dataframe for keywords with lower click than budget\n",
    "    df = df[df['costs_per_mo']<=clicks_goal]\n",
    "    \n",
    "    # sort value by klicks descending and costs ascending\n",
    "    df = df.sort_values(['clicks_per_mo', 'costs_per_mo'], ascending=[False, True]).reset_index(drop=True)\n",
    "    \n",
    "    # define variables: empty list for the index of the optimal keywords; running sum of costs for optimal keywords\n",
    "    key_position = []\n",
    "    clicks = 0.0\n",
    "\n",
    "    # loop through the filtered dataframe\n",
    "    for idx, row in df.iterrows():\n",
    "        # take the first row \n",
    "        if idx == 0:\n",
    "            key_position.append(idx)\n",
    "            clicks += row['clicks_per_mo']\n",
    "        # add clicks of the additional keyword while running sum of clicks is less then the clicks_goal\n",
    "        elif clicks + row['clicks_per_mo'] <= clicks_goal:\n",
    "            key_position.append(idx)\n",
    "            clicks += row['clicks_per_mo']\n",
    "\n",
    "    # return total costs, Clicks of best combination of similar keywords\n",
    "    print('Clicks per month: ', clicks)\n",
    "    print('Costs per month: ' + str(df.iloc[key_position]['costs_per_mo'].sum().round(2)), 'EURO')\n",
    "    return df.iloc[key_position].reset_index(drop=True)"
   ]
  },
  {
   "cell_type": "code",
   "execution_count": 22,
   "metadata": {},
   "outputs": [
    {
     "name": "stdout",
     "output_type": "stream",
     "text": [
      "Clicks per month:  50.0\n",
      "Costs per month: 96.42 EURO\n"
     ]
    },
    {
     "data": {
      "text/html": [
       "<div>\n",
       "<style scoped>\n",
       "    .dataframe tbody tr th:only-of-type {\n",
       "        vertical-align: middle;\n",
       "    }\n",
       "\n",
       "    .dataframe tbody tr th {\n",
       "        vertical-align: top;\n",
       "    }\n",
       "\n",
       "    .dataframe thead th {\n",
       "        text-align: right;\n",
       "    }\n",
       "</style>\n",
       "<table border=\"1\" class=\"dataframe\">\n",
       "  <thead>\n",
       "    <tr style=\"text-align: right;\">\n",
       "      <th></th>\n",
       "      <th>keyword</th>\n",
       "      <th>avg_monthly_searches</th>\n",
       "      <th>competition</th>\n",
       "      <th>platform</th>\n",
       "      <th>suggested_bid</th>\n",
       "      <th>clicks_per_mo</th>\n",
       "      <th>costs_per_mo</th>\n",
       "    </tr>\n",
       "  </thead>\n",
       "  <tbody>\n",
       "    <tr>\n",
       "      <th>0</th>\n",
       "      <td>ki unternehmen</td>\n",
       "      <td>260.0</td>\n",
       "      <td>Mittel</td>\n",
       "      <td>google</td>\n",
       "      <td>2.62</td>\n",
       "      <td>13.0</td>\n",
       "      <td>34.06</td>\n",
       "    </tr>\n",
       "    <tr>\n",
       "      <th>1</th>\n",
       "      <td>ki künstliche intelligenz</td>\n",
       "      <td>210.0</td>\n",
       "      <td>Mittel</td>\n",
       "      <td>google</td>\n",
       "      <td>1.56</td>\n",
       "      <td>10.5</td>\n",
       "      <td>16.38</td>\n",
       "    </tr>\n",
       "    <tr>\n",
       "      <th>2</th>\n",
       "      <td>ki technologie</td>\n",
       "      <td>170.0</td>\n",
       "      <td>Mittel</td>\n",
       "      <td>google</td>\n",
       "      <td>1.64</td>\n",
       "      <td>8.5</td>\n",
       "      <td>13.94</td>\n",
       "    </tr>\n",
       "    <tr>\n",
       "      <th>3</th>\n",
       "      <td>ki modell</td>\n",
       "      <td>140.0</td>\n",
       "      <td>Gering</td>\n",
       "      <td>google</td>\n",
       "      <td>2.30</td>\n",
       "      <td>7.0</td>\n",
       "      <td>16.10</td>\n",
       "    </tr>\n",
       "    <tr>\n",
       "      <th>4</th>\n",
       "      <td>ki methoden</td>\n",
       "      <td>110.0</td>\n",
       "      <td>Gering</td>\n",
       "      <td>google</td>\n",
       "      <td>1.44</td>\n",
       "      <td>5.5</td>\n",
       "      <td>7.92</td>\n",
       "    </tr>\n",
       "    <tr>\n",
       "      <th>5</th>\n",
       "      <td>künstliche intelligenz ki</td>\n",
       "      <td>70.0</td>\n",
       "      <td>Gering</td>\n",
       "      <td>google</td>\n",
       "      <td>1.56</td>\n",
       "      <td>3.5</td>\n",
       "      <td>5.46</td>\n",
       "    </tr>\n",
       "    <tr>\n",
       "      <th>6</th>\n",
       "      <td>ki bereiche</td>\n",
       "      <td>40.0</td>\n",
       "      <td>Gering</td>\n",
       "      <td>google</td>\n",
       "      <td>1.28</td>\n",
       "      <td>2.0</td>\n",
       "      <td>2.56</td>\n",
       "    </tr>\n",
       "  </tbody>\n",
       "</table>\n",
       "</div>"
      ],
      "text/plain": [
       "                     keyword  avg_monthly_searches competition platform  \\\n",
       "0             ki unternehmen                 260.0      Mittel   google   \n",
       "1  ki künstliche intelligenz                 210.0      Mittel   google   \n",
       "2             ki technologie                 170.0      Mittel   google   \n",
       "3                  ki modell                 140.0      Gering   google   \n",
       "4                ki methoden                 110.0      Gering   google   \n",
       "5  künstliche intelligenz ki                  70.0      Gering   google   \n",
       "6                ki bereiche                  40.0      Gering   google   \n",
       "\n",
       "   suggested_bid  clicks_per_mo  costs_per_mo  \n",
       "0           2.62           13.0         34.06  \n",
       "1           1.56           10.5         16.38  \n",
       "2           1.64            8.5         13.94  \n",
       "3           2.30            7.0         16.10  \n",
       "4           1.44            5.5          7.92  \n",
       "5           1.56            3.5          5.46  \n",
       "6           1.28            2.0          2.56  "
      ]
     },
     "execution_count": 22,
     "metadata": {},
     "output_type": "execute_result"
    }
   ],
   "source": [
    "costs_min(df, 'ki | ki', 50)"
   ]
  }
 ],
 "metadata": {
  "interpreter": {
   "hash": "ab3d85a18739f6fff6a9c8c504adc2ff9340867b576dede986e2ee74c099e4e5"
  },
  "kernelspec": {
   "display_name": "Python 3.9.10 ('nf_base')",
   "language": "python",
   "name": "python3"
  },
  "language_info": {
   "codemirror_mode": {
    "name": "ipython",
    "version": 3
   },
   "file_extension": ".py",
   "mimetype": "text/x-python",
   "name": "python",
   "nbconvert_exporter": "python",
   "pygments_lexer": "ipython3",
   "version": "3.9.10"
  },
  "orig_nbformat": 4
 },
 "nbformat": 4,
 "nbformat_minor": 2
}
