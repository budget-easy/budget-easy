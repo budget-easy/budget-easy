{
 "cells": [
  {
   "cell_type": "code",
   "execution_count": 1,
   "metadata": {},
   "outputs": [],
   "source": [
    "import pandas as pd\n",
    "from sql import get_data"
   ]
  },
  {
   "cell_type": "code",
   "execution_count": 3,
   "metadata": {},
   "outputs": [
    {
     "data": {
      "text/html": [
       "<div>\n",
       "<style scoped>\n",
       "    .dataframe tbody tr th:only-of-type {\n",
       "        vertical-align: middle;\n",
       "    }\n",
       "\n",
       "    .dataframe tbody tr th {\n",
       "        vertical-align: top;\n",
       "    }\n",
       "\n",
       "    .dataframe thead th {\n",
       "        text-align: right;\n",
       "    }\n",
       "</style>\n",
       "<table border=\"1\" class=\"dataframe\">\n",
       "  <thead>\n",
       "    <tr style=\"text-align: right;\">\n",
       "      <th></th>\n",
       "      <th>keyword</th>\n",
       "      <th>google_ads_search_volume</th>\n",
       "      <th>google_ads_cpc_in_$</th>\n",
       "      <th>google_ads_competition</th>\n",
       "      <th>bing_ads_search_volume</th>\n",
       "      <th>bing_ads_cpc_in_$</th>\n",
       "      <th>bing_ads_competition</th>\n",
       "    </tr>\n",
       "  </thead>\n",
       "  <tbody>\n",
       "    <tr>\n",
       "      <th>0</th>\n",
       "      <td>bildungsgutschein data science</td>\n",
       "      <td>10</td>\n",
       "      <td>0.01</td>\n",
       "      <td>High</td>\n",
       "      <td>0.0</td>\n",
       "      <td>0.05</td>\n",
       "      <td>Low</td>\n",
       "    </tr>\n",
       "    <tr>\n",
       "      <th>1</th>\n",
       "      <td>bootcamp data</td>\n",
       "      <td>10</td>\n",
       "      <td>11.20</td>\n",
       "      <td>Low</td>\n",
       "      <td>10.0</td>\n",
       "      <td>0.05</td>\n",
       "      <td>High</td>\n",
       "    </tr>\n",
       "    <tr>\n",
       "      <th>2</th>\n",
       "      <td>bootcamp data scientist</td>\n",
       "      <td>4400</td>\n",
       "      <td>23.91</td>\n",
       "      <td>Low</td>\n",
       "      <td>0.0</td>\n",
       "      <td>0.05</td>\n",
       "      <td>Low</td>\n",
       "    </tr>\n",
       "    <tr>\n",
       "      <th>3</th>\n",
       "      <td>bootcamp web developer</td>\n",
       "      <td>720</td>\n",
       "      <td>20.86</td>\n",
       "      <td>Medium</td>\n",
       "      <td>0.0</td>\n",
       "      <td>0.05</td>\n",
       "      <td>Low</td>\n",
       "    </tr>\n",
       "    <tr>\n",
       "      <th>4</th>\n",
       "      <td>coding bootcamp data science</td>\n",
       "      <td>20</td>\n",
       "      <td>25.44</td>\n",
       "      <td>Medium</td>\n",
       "      <td>170.0</td>\n",
       "      <td>0.05</td>\n",
       "      <td>Low</td>\n",
       "    </tr>\n",
       "  </tbody>\n",
       "</table>\n",
       "</div>"
      ],
      "text/plain": [
       "                          keyword  google_ads_search_volume  \\\n",
       "0  bildungsgutschein data science                        10   \n",
       "1                   bootcamp data                        10   \n",
       "2         bootcamp data scientist                      4400   \n",
       "3          bootcamp web developer                       720   \n",
       "4    coding bootcamp data science                        20   \n",
       "\n",
       "   google_ads_cpc_in_$ google_ads_competition  bing_ads_search_volume  \\\n",
       "0                 0.01                   High                     0.0   \n",
       "1                11.20                    Low                    10.0   \n",
       "2                23.91                    Low                     0.0   \n",
       "3                20.86                 Medium                     0.0   \n",
       "4                25.44                 Medium                   170.0   \n",
       "\n",
       "   bing_ads_cpc_in_$ bing_ads_competition  \n",
       "0               0.05                  Low  \n",
       "1               0.05                 High  \n",
       "2               0.05                  Low  \n",
       "3               0.05                  Low  \n",
       "4               0.05                  Low  "
      ]
     },
     "execution_count": 3,
     "metadata": {},
     "output_type": "execute_result"
    }
   ],
   "source": [
    "# read test data from sql\n",
    "df = get_data('SELECT * from test_data')\n",
    "df.head()"
   ]
  },
  {
   "cell_type": "code",
   "execution_count": null,
   "metadata": {},
   "outputs": [],
   "source": []
  }
 ],
 "metadata": {
  "interpreter": {
   "hash": "ab3d85a18739f6fff6a9c8c504adc2ff9340867b576dede986e2ee74c099e4e5"
  },
  "kernelspec": {
   "display_name": "Python 3.9.10 ('nf_base')",
   "language": "python",
   "name": "python3"
  },
  "language_info": {
   "codemirror_mode": {
    "name": "ipython",
    "version": 3
   },
   "file_extension": ".py",
   "mimetype": "text/x-python",
   "name": "python",
   "nbconvert_exporter": "python",
   "pygments_lexer": "ipython3",
   "version": "3.9.10"
  },
  "orig_nbformat": 4
 },
 "nbformat": 4,
 "nbformat_minor": 2
}
