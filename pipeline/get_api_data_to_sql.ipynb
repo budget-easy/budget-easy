{
 "cells": [
  {
   "cell_type": "code",
   "execution_count": 1,
   "metadata": {},
   "outputs": [],
   "source": [
    "import pandas as pd\n",
    "from google_api import get_data\n",
    "from keywords_to_sql import to_sql"
   ]
  },
  {
   "cell_type": "code",
   "execution_count": 2,
   "metadata": {},
   "outputs": [],
   "source": [
    "# define the keywords you want to search for\n",
    "keyword_text = [\"versicherung\", \"haftpflichtversicherung\", \"vollkasko\"]"
   ]
  },
  {
   "cell_type": "code",
   "execution_count": 3,
   "metadata": {},
   "outputs": [],
   "source": [
    "# get google api data for your keywords\n",
    "df = get_data(keyword_text)\n",
    "# write data to sql\n",
    "to_sql(df)"
   ]
  },
  {
   "cell_type": "code",
   "execution_count": 6,
   "metadata": {},
   "outputs": [
    {
     "data": {
      "text/html": [
       "<div>\n",
       "<style scoped>\n",
       "    .dataframe tbody tr th:only-of-type {\n",
       "        vertical-align: middle;\n",
       "    }\n",
       "\n",
       "    .dataframe tbody tr th {\n",
       "        vertical-align: top;\n",
       "    }\n",
       "\n",
       "    .dataframe thead th {\n",
       "        text-align: right;\n",
       "    }\n",
       "</style>\n",
       "<table border=\"1\" class=\"dataframe\">\n",
       "  <thead>\n",
       "    <tr style=\"text-align: right;\">\n",
       "      <th></th>\n",
       "      <th>keyword</th>\n",
       "      <th>avg_monthly_searches</th>\n",
       "      <th>competition</th>\n",
       "      <th>platform</th>\n",
       "      <th>suggested_bid</th>\n",
       "    </tr>\n",
       "  </thead>\n",
       "  <tbody>\n",
       "    <tr>\n",
       "      <th>0</th>\n",
       "      <td>versicherung</td>\n",
       "      <td>74000</td>\n",
       "      <td>MEDIUM</td>\n",
       "      <td>google</td>\n",
       "      <td>310.35595</td>\n",
       "    </tr>\n",
       "    <tr>\n",
       "      <th>1</th>\n",
       "      <td>haftpflichtversicherung</td>\n",
       "      <td>90500</td>\n",
       "      <td>HIGH</td>\n",
       "      <td>google</td>\n",
       "      <td>864.80855</td>\n",
       "    </tr>\n",
       "    <tr>\n",
       "      <th>2</th>\n",
       "      <td>vollkasko</td>\n",
       "      <td>8100</td>\n",
       "      <td>MEDIUM</td>\n",
       "      <td>google</td>\n",
       "      <td>119.02475</td>\n",
       "    </tr>\n",
       "    <tr>\n",
       "      <th>3</th>\n",
       "      <td>rechtsschutzversicherung</td>\n",
       "      <td>110000</td>\n",
       "      <td>HIGH</td>\n",
       "      <td>google</td>\n",
       "      <td>629.11720</td>\n",
       "    </tr>\n",
       "    <tr>\n",
       "      <th>4</th>\n",
       "      <td>kfz versicherung</td>\n",
       "      <td>165000</td>\n",
       "      <td>HIGH</td>\n",
       "      <td>google</td>\n",
       "      <td>771.68715</td>\n",
       "    </tr>\n",
       "  </tbody>\n",
       "</table>\n",
       "</div>"
      ],
      "text/plain": [
       "                    keyword  avg_monthly_searches competition platform  \\\n",
       "0              versicherung                 74000      MEDIUM   google   \n",
       "1   haftpflichtversicherung                 90500        HIGH   google   \n",
       "2                 vollkasko                  8100      MEDIUM   google   \n",
       "3  rechtsschutzversicherung                110000        HIGH   google   \n",
       "4          kfz versicherung                165000        HIGH   google   \n",
       "\n",
       "   suggested_bid  \n",
       "0      310.35595  \n",
       "1      864.80855  \n",
       "2      119.02475  \n",
       "3      629.11720  \n",
       "4      771.68715  "
      ]
     },
     "execution_count": 6,
     "metadata": {},
     "output_type": "execute_result"
    }
   ],
   "source": [
    "df.head()"
   ]
  },
  {
   "cell_type": "code",
   "execution_count": 5,
   "metadata": {},
   "outputs": [
    {
     "name": "stdout",
     "output_type": "stream",
     "text": [
      "The keywords were imported successfully.\n"
     ]
    }
   ],
   "source": [
    "# get data from google api and write to sql in one line\n",
    "to_sql(get_data(keyword_text))"
   ]
  }
 ],
 "metadata": {
  "interpreter": {
   "hash": "5434fdf4a125066a5bbac7f44b7907fb184773ec7540dd52d4763027ba2be8d6"
  },
  "kernelspec": {
   "display_name": "Python 3.9.10 ('ads')",
   "language": "python",
   "name": "python3"
  },
  "language_info": {
   "codemirror_mode": {
    "name": "ipython",
    "version": 3
   },
   "file_extension": ".py",
   "mimetype": "text/x-python",
   "name": "python",
   "nbconvert_exporter": "python",
   "pygments_lexer": "ipython3",
   "version": "3.9.10"
  },
  "orig_nbformat": 4
 },
 "nbformat": 4,
 "nbformat_minor": 2
}
