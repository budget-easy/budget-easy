{
 "cells": [
  {
   "cell_type": "code",
   "execution_count": 15,
   "metadata": {},
   "outputs": [],
   "source": [
    "from google.ads.googleads.client import GoogleAdsClient\n",
    "client = GoogleAdsClient.load_from_storage(\"/Users/erikstorjohann/capstone/capstone-project-tem-2/google_api/my_api/googleads.yaml\")\n",
    "customer_id=\"7343893914\""
   ]
  },
  {
   "cell_type": "code",
   "execution_count": 16,
   "metadata": {},
   "outputs": [
    {
     "name": "stderr",
     "output_type": "stream",
     "text": [
      "usage: ipykernel_launcher.py [-h] -c CUSTOMER_ID\n",
      "ipykernel_launcher.py: error: the following arguments are required: -c/--customer_id\n"
     ]
    },
    {
     "ename": "SystemExit",
     "evalue": "2",
     "output_type": "error",
     "traceback": [
      "An exception has occurred, use %tb to see the full traceback.\n",
      "\u001b[0;31mSystemExit\u001b[0m\u001b[0;31m:\u001b[0m 2\n"
     ]
    },
    {
     "name": "stderr",
     "output_type": "stream",
     "text": [
      "/opt/homebrew/Caskroom/miniconda/base/envs/ads/lib/python3.9/site-packages/IPython/core/interactiveshell.py:3369: UserWarning: To exit: use 'exit', 'quit', or Ctrl-D.\n",
      "  warn(\"To exit: use 'exit', 'quit', or Ctrl-D.\", stacklevel=1)\n"
     ]
    }
   ],
   "source": [
    "#!/usr/bin/env python\n",
    "# Copyright 2020 Google LLC\n",
    "#\n",
    "# Licensed under the Apache License, Version 2.0 (the \"License\");\n",
    "# you may not use this file except in compliance with the License.\n",
    "# You may obtain a copy of the License at\n",
    "#\n",
    "#     https://www.apache.org/licenses/LICENSE-2.0\n",
    "#\n",
    "# Unless required by applicable law or agreed to in writing, software\n",
    "# distributed under the License is distributed on an \"AS IS\" BASIS,\n",
    "# WITHOUT WARRANTIES OR CONDITIONS OF ANY KIND, either express or implied.\n",
    "# See the License for the specific language governing permissions and\n",
    "# limitations under the License.\n",
    "\"\"\"This example illustrates how to get all campaigns.\n",
    "To add campaigns, run add_campaigns.py.\n",
    "\"\"\"\n",
    "\n",
    "\n",
    "import argparse\n",
    "import sys\n",
    "\n",
    "from google.ads.googleads.client import GoogleAdsClient\n",
    "from google.ads.googleads.errors import GoogleAdsException\n",
    "\n",
    "\n",
    "def main(client, customer_id):\n",
    "    ga_service = client.get_service(\"GoogleAdsService\")\n",
    "\n",
    "    query = \"\"\"\n",
    "        SELECT\n",
    "          campaign.id,\n",
    "          campaign.name\n",
    "        FROM campaign\n",
    "        ORDER BY campaign.id\"\"\"\n",
    "\n",
    "    # Issues a search request using streaming.\n",
    "    stream = ga_service.search_stream(customer_id=customer_id, query=query)\n",
    "\n",
    "    for batch in stream:\n",
    "        for row in batch.results:\n",
    "            print(\n",
    "                f\"Campaign with ID {row.campaign.id} and name \"\n",
    "                f'\"{row.campaign.name}\" was found.'\n",
    "            )\n",
    "\n",
    "\n",
    "if __name__ == \"__main__\":\n",
    "    # GoogleAdsClient will read the google-ads.yaml configuration file in the\n",
    "    # home directory if none is specified.\n",
    "    googleads_client = GoogleAdsClient.load_from_storage(\"/Users/erikstorjohann/capstone/capstone-project-tem-2/google_api/my_api/googleads.yaml\")\n",
    "\n",
    "    parser = argparse.ArgumentParser(\n",
    "        description=\"Lists all campaigns for specified customer.\"\n",
    "    )\n",
    "    # The following argument(s) should be provided to run the example.\n",
    "    parser.add_argument(\n",
    "        \"-c\",\n",
    "        \"--customer_id\",\n",
    "        type=str,\n",
    "        required=True,\n",
    "        help=\"The Google Ads customer ID.\",\n",
    "    )\n",
    "    args = parser.parse_args()\n",
    "\n",
    "    try:\n",
    "        main(googleads_client, args.customer_id)\n",
    "    except GoogleAdsException as ex:\n",
    "        print(\n",
    "            f'Request with ID \"{ex.request_id}\" failed with status '\n",
    "            f'\"{ex.error.code().name}\" and includes the following errors:'\n",
    "        )\n",
    "        for error in ex.failure.errors:\n",
    "            print(f'\\tError with message \"{error.message}\".')\n",
    "            if error.location:\n",
    "                for field_path_element in error.location.field_path_elements:\n",
    "                    print(f\"\\t\\tOn field: {field_path_element.field_name}\")\n",
    "        sys.exit(1)"
   ]
  },
  {
   "cell_type": "code",
   "execution_count": 17,
   "metadata": {},
   "outputs": [
    {
     "ename": "SystemExit",
     "evalue": "2",
     "output_type": "error",
     "traceback": [
      "\u001b[0;31m---------------------------------------------------------------------------\u001b[0m",
      "\u001b[0;31mSystemExit\u001b[0m                                Traceback (most recent call last)",
      "\u001b[1;32m/Users/erikstorjohann/capstone/capstone-project-tem-2/google_api/my_api/api.ipynb Cell 2'\u001b[0m in \u001b[0;36m<cell line: 48>\u001b[0;34m()\u001b[0m\n\u001b[1;32m     <a href='vscode-notebook-cell:/Users/erikstorjohann/capstone/capstone-project-tem-2/google_api/my_api/api.ipynb#ch0000001?line=55'>56</a>\u001b[0m \u001b[39m# The following argument(s) should be provided to run the example.\u001b[39;00m\n\u001b[1;32m     <a href='vscode-notebook-cell:/Users/erikstorjohann/capstone/capstone-project-tem-2/google_api/my_api/api.ipynb#ch0000001?line=56'>57</a>\u001b[0m parser\u001b[39m.\u001b[39madd_argument(\n\u001b[1;32m     <a href='vscode-notebook-cell:/Users/erikstorjohann/capstone/capstone-project-tem-2/google_api/my_api/api.ipynb#ch0000001?line=57'>58</a>\u001b[0m     \u001b[39m\"\u001b[39m\u001b[39m-c\u001b[39m\u001b[39m\"\u001b[39m,\n\u001b[1;32m     <a href='vscode-notebook-cell:/Users/erikstorjohann/capstone/capstone-project-tem-2/google_api/my_api/api.ipynb#ch0000001?line=58'>59</a>\u001b[0m     \u001b[39m\"\u001b[39m\u001b[39m--customer_id\u001b[39m\u001b[39m\"\u001b[39m,\n\u001b[0;32m   (...)\u001b[0m\n\u001b[1;32m     <a href='vscode-notebook-cell:/Users/erikstorjohann/capstone/capstone-project-tem-2/google_api/my_api/api.ipynb#ch0000001?line=61'>62</a>\u001b[0m     help\u001b[39m=\u001b[39m\u001b[39m\"\u001b[39m\u001b[39mThe Google Ads customer ID.\u001b[39m\u001b[39m\"\u001b[39m,\n\u001b[1;32m     <a href='vscode-notebook-cell:/Users/erikstorjohann/capstone/capstone-project-tem-2/google_api/my_api/api.ipynb#ch0000001?line=62'>63</a>\u001b[0m )\n\u001b[0;32m---> <a href='vscode-notebook-cell:/Users/erikstorjohann/capstone/capstone-project-tem-2/google_api/my_api/api.ipynb#ch0000001?line=63'>64</a>\u001b[0m args \u001b[39m=\u001b[39m parser\u001b[39m.\u001b[39;49mparse_args()\n\u001b[1;32m     <a href='vscode-notebook-cell:/Users/erikstorjohann/capstone/capstone-project-tem-2/google_api/my_api/api.ipynb#ch0000001?line=65'>66</a>\u001b[0m \u001b[39mtry\u001b[39;00m:\n\u001b[1;32m     <a href='vscode-notebook-cell:/Users/erikstorjohann/capstone/capstone-project-tem-2/google_api/my_api/api.ipynb#ch0000001?line=66'>67</a>\u001b[0m     main(googleads_client, args\u001b[39m.\u001b[39mcustomer_id)\n",
      "File \u001b[0;32m/opt/homebrew/Caskroom/miniconda/base/envs/ads/lib/python3.9/argparse.py:1824\u001b[0m, in \u001b[0;36mArgumentParser.parse_args\u001b[0;34m(self, args, namespace)\u001b[0m\n\u001b[1;32m   <a href='file:///opt/homebrew/Caskroom/miniconda/base/envs/ads/lib/python3.9/argparse.py?line=1822'>1823</a>\u001b[0m \u001b[39mdef\u001b[39;00m \u001b[39mparse_args\u001b[39m(\u001b[39mself\u001b[39m, args\u001b[39m=\u001b[39m\u001b[39mNone\u001b[39;00m, namespace\u001b[39m=\u001b[39m\u001b[39mNone\u001b[39;00m):\n\u001b[0;32m-> <a href='file:///opt/homebrew/Caskroom/miniconda/base/envs/ads/lib/python3.9/argparse.py?line=1823'>1824</a>\u001b[0m     args, argv \u001b[39m=\u001b[39m \u001b[39mself\u001b[39;49m\u001b[39m.\u001b[39;49mparse_known_args(args, namespace)\n\u001b[1;32m   <a href='file:///opt/homebrew/Caskroom/miniconda/base/envs/ads/lib/python3.9/argparse.py?line=1824'>1825</a>\u001b[0m     \u001b[39mif\u001b[39;00m argv:\n\u001b[1;32m   <a href='file:///opt/homebrew/Caskroom/miniconda/base/envs/ads/lib/python3.9/argparse.py?line=1825'>1826</a>\u001b[0m         msg \u001b[39m=\u001b[39m _(\u001b[39m'\u001b[39m\u001b[39munrecognized arguments: \u001b[39m\u001b[39m%s\u001b[39;00m\u001b[39m'\u001b[39m)\n",
      "File \u001b[0;32m/opt/homebrew/Caskroom/miniconda/base/envs/ads/lib/python3.9/argparse.py:1857\u001b[0m, in \u001b[0;36mArgumentParser.parse_known_args\u001b[0;34m(self, args, namespace)\u001b[0m\n\u001b[1;32m   <a href='file:///opt/homebrew/Caskroom/miniconda/base/envs/ads/lib/python3.9/argparse.py?line=1854'>1855</a>\u001b[0m \u001b[39mif\u001b[39;00m \u001b[39mself\u001b[39m\u001b[39m.\u001b[39mexit_on_error:\n\u001b[1;32m   <a href='file:///opt/homebrew/Caskroom/miniconda/base/envs/ads/lib/python3.9/argparse.py?line=1855'>1856</a>\u001b[0m     \u001b[39mtry\u001b[39;00m:\n\u001b[0;32m-> <a href='file:///opt/homebrew/Caskroom/miniconda/base/envs/ads/lib/python3.9/argparse.py?line=1856'>1857</a>\u001b[0m         namespace, args \u001b[39m=\u001b[39m \u001b[39mself\u001b[39;49m\u001b[39m.\u001b[39;49m_parse_known_args(args, namespace)\n\u001b[1;32m   <a href='file:///opt/homebrew/Caskroom/miniconda/base/envs/ads/lib/python3.9/argparse.py?line=1857'>1858</a>\u001b[0m     \u001b[39mexcept\u001b[39;00m ArgumentError:\n\u001b[1;32m   <a href='file:///opt/homebrew/Caskroom/miniconda/base/envs/ads/lib/python3.9/argparse.py?line=1858'>1859</a>\u001b[0m         err \u001b[39m=\u001b[39m _sys\u001b[39m.\u001b[39mexc_info()[\u001b[39m1\u001b[39m]\n",
      "File \u001b[0;32m/opt/homebrew/Caskroom/miniconda/base/envs/ads/lib/python3.9/argparse.py:2094\u001b[0m, in \u001b[0;36mArgumentParser._parse_known_args\u001b[0;34m(self, arg_strings, namespace)\u001b[0m\n\u001b[1;32m   <a href='file:///opt/homebrew/Caskroom/miniconda/base/envs/ads/lib/python3.9/argparse.py?line=2089'>2090</a>\u001b[0m                 \u001b[39msetattr\u001b[39m(namespace, action\u001b[39m.\u001b[39mdest,\n\u001b[1;32m   <a href='file:///opt/homebrew/Caskroom/miniconda/base/envs/ads/lib/python3.9/argparse.py?line=2090'>2091</a>\u001b[0m                         \u001b[39mself\u001b[39m\u001b[39m.\u001b[39m_get_value(action, action\u001b[39m.\u001b[39mdefault))\n\u001b[1;32m   <a href='file:///opt/homebrew/Caskroom/miniconda/base/envs/ads/lib/python3.9/argparse.py?line=2092'>2093</a>\u001b[0m \u001b[39mif\u001b[39;00m required_actions:\n\u001b[0;32m-> <a href='file:///opt/homebrew/Caskroom/miniconda/base/envs/ads/lib/python3.9/argparse.py?line=2093'>2094</a>\u001b[0m     \u001b[39mself\u001b[39;49m\u001b[39m.\u001b[39;49merror(_(\u001b[39m'\u001b[39;49m\u001b[39mthe following arguments are required: \u001b[39;49m\u001b[39m%s\u001b[39;49;00m\u001b[39m'\u001b[39;49m) \u001b[39m%\u001b[39;49m\n\u001b[1;32m   <a href='file:///opt/homebrew/Caskroom/miniconda/base/envs/ads/lib/python3.9/argparse.py?line=2094'>2095</a>\u001b[0m                \u001b[39m'\u001b[39;49m\u001b[39m, \u001b[39;49m\u001b[39m'\u001b[39;49m\u001b[39m.\u001b[39;49mjoin(required_actions))\n\u001b[1;32m   <a href='file:///opt/homebrew/Caskroom/miniconda/base/envs/ads/lib/python3.9/argparse.py?line=2096'>2097</a>\u001b[0m \u001b[39m# make sure all required groups had one option present\u001b[39;00m\n\u001b[1;32m   <a href='file:///opt/homebrew/Caskroom/miniconda/base/envs/ads/lib/python3.9/argparse.py?line=2097'>2098</a>\u001b[0m \u001b[39mfor\u001b[39;00m group \u001b[39min\u001b[39;00m \u001b[39mself\u001b[39m\u001b[39m.\u001b[39m_mutually_exclusive_groups:\n",
      "File \u001b[0;32m/opt/homebrew/Caskroom/miniconda/base/envs/ads/lib/python3.9/argparse.py:2581\u001b[0m, in \u001b[0;36mArgumentParser.error\u001b[0;34m(self, message)\u001b[0m\n\u001b[1;32m   <a href='file:///opt/homebrew/Caskroom/miniconda/base/envs/ads/lib/python3.9/argparse.py?line=2578'>2579</a>\u001b[0m \u001b[39mself\u001b[39m\u001b[39m.\u001b[39mprint_usage(_sys\u001b[39m.\u001b[39mstderr)\n\u001b[1;32m   <a href='file:///opt/homebrew/Caskroom/miniconda/base/envs/ads/lib/python3.9/argparse.py?line=2579'>2580</a>\u001b[0m args \u001b[39m=\u001b[39m {\u001b[39m'\u001b[39m\u001b[39mprog\u001b[39m\u001b[39m'\u001b[39m: \u001b[39mself\u001b[39m\u001b[39m.\u001b[39mprog, \u001b[39m'\u001b[39m\u001b[39mmessage\u001b[39m\u001b[39m'\u001b[39m: message}\n\u001b[0;32m-> <a href='file:///opt/homebrew/Caskroom/miniconda/base/envs/ads/lib/python3.9/argparse.py?line=2580'>2581</a>\u001b[0m \u001b[39mself\u001b[39;49m\u001b[39m.\u001b[39;49mexit(\u001b[39m2\u001b[39;49m, _(\u001b[39m'\u001b[39;49m\u001b[39m%(prog)s\u001b[39;49;00m\u001b[39m: error: \u001b[39;49m\u001b[39m%(message)s\u001b[39;49;00m\u001b[39m\\n\u001b[39;49;00m\u001b[39m'\u001b[39;49m) \u001b[39m%\u001b[39;49m args)\n",
      "File \u001b[0;32m/opt/homebrew/Caskroom/miniconda/base/envs/ads/lib/python3.9/argparse.py:2568\u001b[0m, in \u001b[0;36mArgumentParser.exit\u001b[0;34m(self, status, message)\u001b[0m\n\u001b[1;32m   <a href='file:///opt/homebrew/Caskroom/miniconda/base/envs/ads/lib/python3.9/argparse.py?line=2565'>2566</a>\u001b[0m \u001b[39mif\u001b[39;00m message:\n\u001b[1;32m   <a href='file:///opt/homebrew/Caskroom/miniconda/base/envs/ads/lib/python3.9/argparse.py?line=2566'>2567</a>\u001b[0m     \u001b[39mself\u001b[39m\u001b[39m.\u001b[39m_print_message(message, _sys\u001b[39m.\u001b[39mstderr)\n\u001b[0;32m-> <a href='file:///opt/homebrew/Caskroom/miniconda/base/envs/ads/lib/python3.9/argparse.py?line=2567'>2568</a>\u001b[0m _sys\u001b[39m.\u001b[39;49mexit(status)\n",
      "\u001b[0;31mSystemExit\u001b[0m: 2"
     ]
    }
   ],
   "source": [
    "%tb"
   ]
  }
 ],
 "metadata": {
  "interpreter": {
   "hash": "5434fdf4a125066a5bbac7f44b7907fb184773ec7540dd52d4763027ba2be8d6"
  },
  "kernelspec": {
   "display_name": "Python 3.9.10 ('ads')",
   "language": "python",
   "name": "python3"
  },
  "language_info": {
   "codemirror_mode": {
    "name": "ipython",
    "version": 3
   },
   "file_extension": ".py",
   "mimetype": "text/x-python",
   "name": "python",
   "nbconvert_exporter": "python",
   "pygments_lexer": "ipython3",
   "version": "3.9.10"
  },
  "orig_nbformat": 4
 },
 "nbformat": 4,
 "nbformat_minor": 2
}
